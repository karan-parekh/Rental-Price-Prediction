{
 "nbformat": 4,
 "nbformat_minor": 2,
 "metadata": {
  "language_info": {
   "name": "python",
   "codemirror_mode": {
    "name": "ipython",
    "version": 3
   },
   "version": "3.7.4-final"
  },
  "orig_nbformat": 2,
  "file_extension": ".py",
  "mimetype": "text/x-python",
  "name": "python",
  "npconvert_exporter": "python",
  "pygments_lexer": "ipython3",
  "version": 3,
  "kernelspec": {
   "name": "python37432bitc1904522e8ce46829924bddcb110fc44",
   "display_name": "Python 3.7.4 32-bit"
  }
 },
 "cells": [
  {
   "cell_type": "code",
   "execution_count": 1,
   "metadata": {},
   "outputs": [],
   "source": [
    "import os\n",
    "import sys\n",
    "\n",
    "app_path = os.getcwd().rsplit(os.sep, 1)[0]\n",
    "\n",
    "if app_path not in sys.path:\n",
    "    sys.path.insert(0, app_path)"
   ]
  },
  {
   "cell_type": "code",
   "execution_count": 2,
   "metadata": {},
   "outputs": [],
   "source": [
    "import pandas as pd\n",
    "\n",
    "from sklearn.preprocessing import OneHotEncoder, LabelEncoder\n",
    "from utils.paths import raw_data_path\n",
    "from utils.helpers import *"
   ]
  },
  {
   "cell_type": "code",
   "execution_count": 3,
   "metadata": {},
   "outputs": [],
   "source": [
    "path = raw_data_path(\"train.csv\")\n",
    "df = pd.read_csv(path)\n",
    "\n",
    "test_path = raw_data_path(\"test.csv\")\n",
    "test_df = pd.read_csv(test_path)"
   ]
  },
  {
   "cell_type": "code",
   "execution_count": 4,
   "metadata": {},
   "outputs": [
    {
     "data": {
      "text/html": "<div>\n<style scoped>\n    .dataframe tbody tr th:only-of-type {\n        vertical-align: middle;\n    }\n\n    .dataframe tbody tr th {\n        vertical-align: top;\n    }\n\n    .dataframe thead th {\n        text-align: right;\n    }\n</style>\n<table border=\"1\" class=\"dataframe\">\n  <thead>\n    <tr style=\"text-align: right;\">\n      <th></th>\n      <th>id</th>\n      <th>name</th>\n      <th>host_id</th>\n      <th>host_name</th>\n      <th>neighbourhood_group</th>\n      <th>neighbourhood</th>\n      <th>latitude</th>\n      <th>longitude</th>\n      <th>room_type</th>\n      <th>price</th>\n      <th>minimum_nights</th>\n      <th>number_of_reviews</th>\n      <th>last_review</th>\n      <th>reviews_per_month</th>\n      <th>calculated_host_listings_count</th>\n      <th>availability_365</th>\n    </tr>\n  </thead>\n  <tbody>\n    <tr>\n      <th>0</th>\n      <td>5728806</td>\n      <td>Large private room in Nolita</td>\n      <td>4271676</td>\n      <td>Nat</td>\n      <td>Manhattan</td>\n      <td>Nolita</td>\n      <td>40.72217</td>\n      <td>-73.99481</td>\n      <td>Private room</td>\n      <td>120</td>\n      <td>7</td>\n      <td>3</td>\n      <td>2015-09-01</td>\n      <td>0.06</td>\n      <td>3</td>\n      <td>0</td>\n    </tr>\n    <tr>\n      <th>1</th>\n      <td>2243769</td>\n      <td>Super Bowl New York City Apartment</td>\n      <td>11460768</td>\n      <td>Brian</td>\n      <td>Manhattan</td>\n      <td>Upper West Side</td>\n      <td>40.80020</td>\n      <td>-73.96045</td>\n      <td>Entire home/apt</td>\n      <td>1500</td>\n      <td>1</td>\n      <td>0</td>\n      <td>NaN</td>\n      <td>NaN</td>\n      <td>1</td>\n      <td>0</td>\n    </tr>\n    <tr>\n      <th>2</th>\n      <td>35515415</td>\n      <td>COZY APT CLOSE TO LGA &amp; JFK AND TRANSPORTATION</td>\n      <td>267193767</td>\n      <td>Jenny</td>\n      <td>Queens</td>\n      <td>East Elmhurst</td>\n      <td>40.75558</td>\n      <td>-73.89316</td>\n      <td>Entire home/apt</td>\n      <td>200</td>\n      <td>2</td>\n      <td>4</td>\n      <td>2019-07-05</td>\n      <td>4.00</td>\n      <td>1</td>\n      <td>365</td>\n    </tr>\n    <tr>\n      <th>3</th>\n      <td>36202006</td>\n      <td>Stream-Pressed Paradise (Laundry Room Setup)</td>\n      <td>43392243</td>\n      <td>Rita</td>\n      <td>Staten Island</td>\n      <td>Concord</td>\n      <td>40.60110</td>\n      <td>-74.07830</td>\n      <td>Shared room</td>\n      <td>30</td>\n      <td>2</td>\n      <td>0</td>\n      <td>NaN</td>\n      <td>NaN</td>\n      <td>4</td>\n      <td>82</td>\n    </tr>\n    <tr>\n      <th>4</th>\n      <td>3780951</td>\n      <td>Charming Harlem apartment</td>\n      <td>16065171</td>\n      <td>Gina</td>\n      <td>Manhattan</td>\n      <td>Harlem</td>\n      <td>40.81022</td>\n      <td>-73.94266</td>\n      <td>Shared room</td>\n      <td>115</td>\n      <td>1</td>\n      <td>16</td>\n      <td>2019-05-26</td>\n      <td>0.27</td>\n      <td>1</td>\n      <td>365</td>\n    </tr>\n  </tbody>\n</table>\n</div>",
      "text/plain": "         id                                            name    host_id  \\\n0   5728806                    Large private room in Nolita    4271676   \n1   2243769              Super Bowl New York City Apartment   11460768   \n2  35515415  COZY APT CLOSE TO LGA & JFK AND TRANSPORTATION  267193767   \n3  36202006    Stream-Pressed Paradise (Laundry Room Setup)   43392243   \n4   3780951                       Charming Harlem apartment   16065171   \n\n  host_name neighbourhood_group    neighbourhood  latitude  longitude  \\\n0       Nat           Manhattan           Nolita  40.72217  -73.99481   \n1     Brian           Manhattan  Upper West Side  40.80020  -73.96045   \n2     Jenny              Queens    East Elmhurst  40.75558  -73.89316   \n3      Rita       Staten Island          Concord  40.60110  -74.07830   \n4      Gina           Manhattan           Harlem  40.81022  -73.94266   \n\n         room_type  price  minimum_nights  number_of_reviews last_review  \\\n0     Private room    120               7                  3  2015-09-01   \n1  Entire home/apt   1500               1                  0         NaN   \n2  Entire home/apt    200               2                  4  2019-07-05   \n3      Shared room     30               2                  0         NaN   \n4      Shared room    115               1                 16  2019-05-26   \n\n   reviews_per_month  calculated_host_listings_count  availability_365  \n0               0.06                               3                 0  \n1                NaN                               1                 0  \n2               4.00                               1               365  \n3                NaN                               4                82  \n4               0.27                               1               365  "
     },
     "execution_count": 4,
     "metadata": {},
     "output_type": "execute_result"
    }
   ],
   "source": [
    "df.head()"
   ]
  },
  {
   "cell_type": "markdown",
   "metadata": {},
   "source": [
    "## Replacing NaN values "
   ]
  },
  {
   "cell_type": "code",
   "execution_count": 5,
   "metadata": {},
   "outputs": [
    {
     "data": {
      "text/plain": "id                                   0\nname                                12\nhost_id                              0\nhost_name                           13\nneighbourhood_group                  0\nneighbourhood                        0\nlatitude                             0\nlongitude                            0\nroom_type                            0\nprice                                0\nminimum_nights                       0\nnumber_of_reviews                    0\nlast_review                       6982\nreviews_per_month                 6982\ncalculated_host_listings_count       0\navailability_365                     0\ndtype: int64"
     },
     "execution_count": 5,
     "metadata": {},
     "output_type": "execute_result"
    }
   ],
   "source": [
    "df.isnull().sum()"
   ]
  },
  {
   "cell_type": "code",
   "execution_count": 6,
   "metadata": {},
   "outputs": [],
   "source": [
    "df = df.drop(\"name\", 1)\n",
    "df.host_name = df.host_name.fillna(\"AAA\")\n",
    "\n",
    "mean_rpm = df.reviews_per_month.mean()\n",
    "df.reviews_per_month = df.reviews_per_month.fillna(mean_rpm)\n",
    "df.last_review = df.last_review.fillna('2001-01-01')\n",
    "\n"
   ]
  },
  {
   "cell_type": "code",
   "execution_count": 7,
   "metadata": {},
   "outputs": [
    {
     "data": {
      "text/plain": "id                                0\nhost_id                           0\nhost_name                         0\nneighbourhood_group               0\nneighbourhood                     0\nlatitude                          0\nlongitude                         0\nroom_type                         0\nprice                             0\nminimum_nights                    0\nnumber_of_reviews                 0\nlast_review                       0\nreviews_per_month                 0\ncalculated_host_listings_count    0\navailability_365                  0\ndtype: int64"
     },
     "execution_count": 7,
     "metadata": {},
     "output_type": "execute_result"
    }
   ],
   "source": [
    "df.isnull().sum()\n"
   ]
  },
  {
   "cell_type": "markdown",
   "metadata": {},
   "source": [
    "## LabelEncoding DF "
   ]
  },
  {
   "cell_type": "code",
   "execution_count": 8,
   "metadata": {},
   "outputs": [],
   "source": [
    "df = label_encode(df)"
   ]
  },
  {
   "cell_type": "markdown",
   "metadata": {},
   "source": [
    "## Running models"
   ]
  },
  {
   "cell_type": "code",
   "execution_count": 9,
   "metadata": {},
   "outputs": [
    {
     "name": "stdout",
     "output_type": "stream",
     "text": "Linear Regression : 0.10171007672054144\nRidge : 0.10166474422099392\nLasso : 0.09117489189423755\nDecision Tree : -0.1945214722904769\nRandom Forest : 0.22718570076696043\nSVR : -0.030817805278376076\n"
    }
   ],
   "source": [
    "X = df.drop(['price'], 1)\n",
    "y = df.price\n",
    "\n",
    "result = run_regression_models(X, y, None)"
   ]
  },
  {
   "cell_type": "markdown",
   "metadata": {},
   "source": [
    "## Saving models to a list"
   ]
  },
  {
   "cell_type": "code",
   "execution_count": 10,
   "metadata": {},
   "outputs": [],
   "source": [
    "model_scores = result.values()\n",
    "models = []\n",
    "\n",
    "for model_score in model_scores:\n",
    "    models.append(model_score['model'])"
   ]
  },
  {
   "cell_type": "markdown",
   "metadata": {},
   "source": [
    "## Transforming Test Data"
   ]
  },
  {
   "cell_type": "code",
   "execution_count": 11,
   "metadata": {},
   "outputs": [
    {
     "data": {
      "text/html": "<div>\n<style scoped>\n    .dataframe tbody tr th:only-of-type {\n        vertical-align: middle;\n    }\n\n    .dataframe tbody tr th {\n        vertical-align: top;\n    }\n\n    .dataframe thead th {\n        text-align: right;\n    }\n</style>\n<table border=\"1\" class=\"dataframe\">\n  <thead>\n    <tr style=\"text-align: right;\">\n      <th></th>\n      <th>id</th>\n      <th>host_id</th>\n      <th>host_name</th>\n      <th>neighbourhood_group</th>\n      <th>neighbourhood</th>\n      <th>latitude</th>\n      <th>longitude</th>\n      <th>room_type</th>\n      <th>minimum_nights</th>\n      <th>number_of_reviews</th>\n      <th>last_review</th>\n      <th>reviews_per_month</th>\n      <th>calculated_host_listings_count</th>\n      <th>availability_365</th>\n    </tr>\n  </thead>\n  <tbody>\n    <tr>\n      <th>0</th>\n      <td>1525602</td>\n      <td>1200603</td>\n      <td>267</td>\n      <td>1</td>\n      <td>49</td>\n      <td>40.66751</td>\n      <td>-73.95867</td>\n      <td>0</td>\n      <td>2</td>\n      <td>121</td>\n      <td>1351</td>\n      <td>1.700000</td>\n      <td>1</td>\n      <td>39</td>\n    </tr>\n    <tr>\n      <th>1</th>\n      <td>30430185</td>\n      <td>224414117</td>\n      <td>1596</td>\n      <td>2</td>\n      <td>93</td>\n      <td>40.75655</td>\n      <td>-73.99690</td>\n      <td>1</td>\n      <td>1</td>\n      <td>18</td>\n      <td>1325</td>\n      <td>2.490000</td>\n      <td>30</td>\n      <td>364</td>\n    </tr>\n    <tr>\n      <th>2</th>\n      <td>21354525</td>\n      <td>11743513</td>\n      <td>1858</td>\n      <td>1</td>\n      <td>24</td>\n      <td>40.69252</td>\n      <td>-73.99121</td>\n      <td>1</td>\n      <td>1</td>\n      <td>87</td>\n      <td>1367</td>\n      <td>4.290000</td>\n      <td>1</td>\n      <td>108</td>\n    </tr>\n    <tr>\n      <th>3</th>\n      <td>35995074</td>\n      <td>4128829</td>\n      <td>4258</td>\n      <td>3</td>\n      <td>52</td>\n      <td>40.77292</td>\n      <td>-73.90101</td>\n      <td>1</td>\n      <td>9</td>\n      <td>0</td>\n      <td>0</td>\n      <td>1.364172</td>\n      <td>2</td>\n      <td>365</td>\n    </tr>\n    <tr>\n      <th>4</th>\n      <td>34392081</td>\n      <td>259630588</td>\n      <td>164</td>\n      <td>1</td>\n      <td>200</td>\n      <td>40.71863</td>\n      <td>-73.94980</td>\n      <td>1</td>\n      <td>1</td>\n      <td>28</td>\n      <td>1377</td>\n      <td>14.000000</td>\n      <td>2</td>\n      <td>20</td>\n    </tr>\n  </tbody>\n</table>\n</div>",
      "text/plain": "         id    host_id  host_name  neighbourhood_group  neighbourhood  \\\n0   1525602    1200603        267                    1             49   \n1  30430185  224414117       1596                    2             93   \n2  21354525   11743513       1858                    1             24   \n3  35995074    4128829       4258                    3             52   \n4  34392081  259630588        164                    1            200   \n\n   latitude  longitude  room_type  minimum_nights  number_of_reviews  \\\n0  40.66751  -73.95867          0               2                121   \n1  40.75655  -73.99690          1               1                 18   \n2  40.69252  -73.99121          1               1                 87   \n3  40.77292  -73.90101          1               9                  0   \n4  40.71863  -73.94980          1               1                 28   \n\n   last_review  reviews_per_month  calculated_host_listings_count  \\\n0         1351           1.700000                               1   \n1         1325           2.490000                              30   \n2         1367           4.290000                               1   \n3            0           1.364172                               2   \n4         1377          14.000000                               2   \n\n   availability_365  \n0                39  \n1               364  \n2               108  \n3               365  \n4                20  "
     },
     "execution_count": 11,
     "metadata": {},
     "output_type": "execute_result"
    }
   ],
   "source": [
    "# Loading test data\n",
    "\n",
    "df = test_df\n",
    "\n",
    "df = df.drop(\"name\", 1)\n",
    "df.host_name = df.host_name.fillna(\"AAA\")\n",
    "\n",
    "mean_rpm = df.reviews_per_month.mean()\n",
    "df.reviews_per_month = df.reviews_per_month.fillna(mean_rpm)\n",
    "df.last_review = df.last_review.fillna('2001-01-01')\n",
    "\n",
    "df = label_encode(df)\n",
    "\n",
    "df.head()"
   ]
  },
  {
   "cell_type": "markdown",
   "metadata": {},
   "source": [
    "## Running models on test data"
   ]
  },
  {
   "cell_type": "code",
   "execution_count": null,
   "metadata": {},
   "outputs": [],
   "source": []
  }
 ]
}