{
 "nbformat": 4,
 "nbformat_minor": 2,
 "metadata": {
  "language_info": {
   "name": "python",
   "codemirror_mode": {
    "name": "ipython",
    "version": 3
   },
   "version": "3.7.4-final"
  },
  "orig_nbformat": 2,
  "file_extension": ".py",
  "mimetype": "text/x-python",
  "name": "python",
  "npconvert_exporter": "python",
  "pygments_lexer": "ipython3",
  "version": 3,
  "kernelspec": {
   "name": "python37432bittitanicpipenvc73c4e7f743741118feccf7f89e2f070",
   "display_name": "Python 3.7.4 32-bit ('Titanic': pipenv)"
  }
 },
 "cells": [
  {
   "cell_type": "code",
   "execution_count": 18,
   "metadata": {},
   "outputs": [],
   "source": [
    "import sys\n",
    "\n",
    "app_path = os.getcwd().rsplit(os.sep, 1)[0]\n",
    "\n",
    "if app_path not in sys.path:\n",
    "    sys.path.insert(0, app_path)"
   ]
  },
  {
   "cell_type": "code",
   "execution_count": 20,
   "metadata": {},
   "outputs": [],
   "source": [
    "import pandas as pd\n",
    "\n",
    "from utils.paths import raw_data_path"
   ]
  },
  {
   "cell_type": "code",
   "execution_count": 21,
   "metadata": {},
   "outputs": [
    {
     "data": {
      "text/html": "<div>\n<style scoped>\n    .dataframe tbody tr th:only-of-type {\n        vertical-align: middle;\n    }\n\n    .dataframe tbody tr th {\n        vertical-align: top;\n    }\n\n    .dataframe thead th {\n        text-align: right;\n    }\n</style>\n<table border=\"1\" class=\"dataframe\">\n  <thead>\n    <tr style=\"text-align: right;\">\n      <th></th>\n      <th>id</th>\n      <th>name</th>\n      <th>host_id</th>\n      <th>host_name</th>\n      <th>neighbourhood_group</th>\n      <th>neighbourhood</th>\n      <th>latitude</th>\n      <th>longitude</th>\n      <th>room_type</th>\n      <th>price</th>\n      <th>minimum_nights</th>\n      <th>number_of_reviews</th>\n      <th>last_review</th>\n      <th>reviews_per_month</th>\n      <th>calculated_host_listings_count</th>\n      <th>availability_365</th>\n    </tr>\n  </thead>\n  <tbody>\n    <tr>\n      <th>0</th>\n      <td>5728806</td>\n      <td>Large private room in Nolita</td>\n      <td>4271676</td>\n      <td>Nat</td>\n      <td>Manhattan</td>\n      <td>Nolita</td>\n      <td>40.72217</td>\n      <td>-73.99481</td>\n      <td>Private room</td>\n      <td>120</td>\n      <td>7</td>\n      <td>3</td>\n      <td>2015-09-01</td>\n      <td>0.06</td>\n      <td>3</td>\n      <td>0</td>\n    </tr>\n    <tr>\n      <th>1</th>\n      <td>2243769</td>\n      <td>Super Bowl New York City Apartment</td>\n      <td>11460768</td>\n      <td>Brian</td>\n      <td>Manhattan</td>\n      <td>Upper West Side</td>\n      <td>40.80020</td>\n      <td>-73.96045</td>\n      <td>Entire home/apt</td>\n      <td>1500</td>\n      <td>1</td>\n      <td>0</td>\n      <td>NaN</td>\n      <td>NaN</td>\n      <td>1</td>\n      <td>0</td>\n    </tr>\n    <tr>\n      <th>2</th>\n      <td>35515415</td>\n      <td>COZY APT CLOSE TO LGA &amp; JFK AND TRANSPORTATION</td>\n      <td>267193767</td>\n      <td>Jenny</td>\n      <td>Queens</td>\n      <td>East Elmhurst</td>\n      <td>40.75558</td>\n      <td>-73.89316</td>\n      <td>Entire home/apt</td>\n      <td>200</td>\n      <td>2</td>\n      <td>4</td>\n      <td>2019-07-05</td>\n      <td>4.00</td>\n      <td>1</td>\n      <td>365</td>\n    </tr>\n    <tr>\n      <th>3</th>\n      <td>36202006</td>\n      <td>Stream-Pressed Paradise (Laundry Room Setup)</td>\n      <td>43392243</td>\n      <td>Rita</td>\n      <td>Staten Island</td>\n      <td>Concord</td>\n      <td>40.60110</td>\n      <td>-74.07830</td>\n      <td>Shared room</td>\n      <td>30</td>\n      <td>2</td>\n      <td>0</td>\n      <td>NaN</td>\n      <td>NaN</td>\n      <td>4</td>\n      <td>82</td>\n    </tr>\n    <tr>\n      <th>4</th>\n      <td>3780951</td>\n      <td>Charming Harlem apartment</td>\n      <td>16065171</td>\n      <td>Gina</td>\n      <td>Manhattan</td>\n      <td>Harlem</td>\n      <td>40.81022</td>\n      <td>-73.94266</td>\n      <td>Shared room</td>\n      <td>115</td>\n      <td>1</td>\n      <td>16</td>\n      <td>2019-05-26</td>\n      <td>0.27</td>\n      <td>1</td>\n      <td>365</td>\n    </tr>\n  </tbody>\n</table>\n</div>",
      "text/plain": "         id                                            name    host_id  \\\n0   5728806                    Large private room in Nolita    4271676   \n1   2243769              Super Bowl New York City Apartment   11460768   \n2  35515415  COZY APT CLOSE TO LGA & JFK AND TRANSPORTATION  267193767   \n3  36202006    Stream-Pressed Paradise (Laundry Room Setup)   43392243   \n4   3780951                       Charming Harlem apartment   16065171   \n\n  host_name neighbourhood_group    neighbourhood  latitude  longitude  \\\n0       Nat           Manhattan           Nolita  40.72217  -73.99481   \n1     Brian           Manhattan  Upper West Side  40.80020  -73.96045   \n2     Jenny              Queens    East Elmhurst  40.75558  -73.89316   \n3      Rita       Staten Island          Concord  40.60110  -74.07830   \n4      Gina           Manhattan           Harlem  40.81022  -73.94266   \n\n         room_type  price  minimum_nights  number_of_reviews last_review  \\\n0     Private room    120               7                  3  2015-09-01   \n1  Entire home/apt   1500               1                  0         NaN   \n2  Entire home/apt    200               2                  4  2019-07-05   \n3      Shared room     30               2                  0         NaN   \n4      Shared room    115               1                 16  2019-05-26   \n\n   reviews_per_month  calculated_host_listings_count  availability_365  \n0               0.06                               3                 0  \n1                NaN                               1                 0  \n2               4.00                               1               365  \n3                NaN                               4                82  \n4               0.27                               1               365  "
     },
     "execution_count": 21,
     "metadata": {},
     "output_type": "execute_result"
    }
   ],
   "source": [
    "path = raw_data_path('train.csv')\n",
    "df   = pd.read_csv(path)\n",
    "\n",
    "df.head()"
   ]
  },
  {
   "cell_type": "code",
   "execution_count": null,
   "metadata": {},
   "outputs": [],
   "source": []
  },
  {
   "cell_type": "code",
   "execution_count": null,
   "metadata": {},
   "outputs": [],
   "source": []
  },
  {
   "cell_type": "markdown",
   "metadata": {},
   "source": [
    "## END"
   ]
  }
 ]
}