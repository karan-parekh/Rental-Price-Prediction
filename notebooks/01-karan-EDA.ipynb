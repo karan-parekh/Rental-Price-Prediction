{
 "nbformat": 4,
 "nbformat_minor": 2,
 "metadata": {
  "language_info": {
   "name": "python",
   "codemirror_mode": {
    "name": "ipython",
    "version": 3
   },
   "version": "3.7.4-final"
  },
  "orig_nbformat": 2,
  "file_extension": ".py",
  "mimetype": "text/x-python",
  "name": "python",
  "npconvert_exporter": "python",
  "pygments_lexer": "ipython3",
  "version": 3,
  "kernelspec": {
   "name": "python37432bittitanicpipenvc73c4e7f743741118feccf7f89e2f070",
   "display_name": "Python 3.7.4 32-bit ('Titanic': pipenv)"
  }
 },
 "cells": [
  {
   "cell_type": "code",
   "execution_count": 17,
   "metadata": {},
   "outputs": [],
   "source": [
    "import os\n",
    "import sys\n",
    "\n",
    "app_path = os.getcwd().rsplit(os.sep, 1)[0]\n",
    "\n",
    "if app_path not in sys.path:\n",
    "    sys.path.insert(0, app_path)"
   ]
  },
  {
   "cell_type": "code",
   "execution_count": 18,
   "metadata": {},
   "outputs": [],
   "source": [
    "import pandas as pd\n",
    "\n",
    "from utils.paths import raw_data_path\n",
    "from utils.helpers import *"
   ]
  },
  {
   "cell_type": "code",
   "execution_count": 19,
   "metadata": {},
   "outputs": [
    {
     "data": {
      "text/html": "<div>\n<style scoped>\n    .dataframe tbody tr th:only-of-type {\n        vertical-align: middle;\n    }\n\n    .dataframe tbody tr th {\n        vertical-align: top;\n    }\n\n    .dataframe thead th {\n        text-align: right;\n    }\n</style>\n<table border=\"1\" class=\"dataframe\">\n  <thead>\n    <tr style=\"text-align: right;\">\n      <th></th>\n      <th>id</th>\n      <th>name</th>\n      <th>host_id</th>\n      <th>host_name</th>\n      <th>neighbourhood_group</th>\n      <th>neighbourhood</th>\n      <th>latitude</th>\n      <th>longitude</th>\n      <th>room_type</th>\n      <th>price</th>\n      <th>minimum_nights</th>\n      <th>number_of_reviews</th>\n      <th>last_review</th>\n      <th>reviews_per_month</th>\n      <th>calculated_host_listings_count</th>\n      <th>availability_365</th>\n    </tr>\n  </thead>\n  <tbody>\n    <tr>\n      <th>0</th>\n      <td>5728806</td>\n      <td>Large private room in Nolita</td>\n      <td>4271676</td>\n      <td>Nat</td>\n      <td>Manhattan</td>\n      <td>Nolita</td>\n      <td>40.72217</td>\n      <td>-73.99481</td>\n      <td>Private room</td>\n      <td>120</td>\n      <td>7</td>\n      <td>3</td>\n      <td>2015-09-01</td>\n      <td>0.06</td>\n      <td>3</td>\n      <td>0</td>\n    </tr>\n    <tr>\n      <th>1</th>\n      <td>2243769</td>\n      <td>Super Bowl New York City Apartment</td>\n      <td>11460768</td>\n      <td>Brian</td>\n      <td>Manhattan</td>\n      <td>Upper West Side</td>\n      <td>40.80020</td>\n      <td>-73.96045</td>\n      <td>Entire home/apt</td>\n      <td>1500</td>\n      <td>1</td>\n      <td>0</td>\n      <td>NaN</td>\n      <td>NaN</td>\n      <td>1</td>\n      <td>0</td>\n    </tr>\n    <tr>\n      <th>2</th>\n      <td>35515415</td>\n      <td>COZY APT CLOSE TO LGA &amp; JFK AND TRANSPORTATION</td>\n      <td>267193767</td>\n      <td>Jenny</td>\n      <td>Queens</td>\n      <td>East Elmhurst</td>\n      <td>40.75558</td>\n      <td>-73.89316</td>\n      <td>Entire home/apt</td>\n      <td>200</td>\n      <td>2</td>\n      <td>4</td>\n      <td>2019-07-05</td>\n      <td>4.00</td>\n      <td>1</td>\n      <td>365</td>\n    </tr>\n    <tr>\n      <th>3</th>\n      <td>36202006</td>\n      <td>Stream-Pressed Paradise (Laundry Room Setup)</td>\n      <td>43392243</td>\n      <td>Rita</td>\n      <td>Staten Island</td>\n      <td>Concord</td>\n      <td>40.60110</td>\n      <td>-74.07830</td>\n      <td>Shared room</td>\n      <td>30</td>\n      <td>2</td>\n      <td>0</td>\n      <td>NaN</td>\n      <td>NaN</td>\n      <td>4</td>\n      <td>82</td>\n    </tr>\n    <tr>\n      <th>4</th>\n      <td>3780951</td>\n      <td>Charming Harlem apartment</td>\n      <td>16065171</td>\n      <td>Gina</td>\n      <td>Manhattan</td>\n      <td>Harlem</td>\n      <td>40.81022</td>\n      <td>-73.94266</td>\n      <td>Shared room</td>\n      <td>115</td>\n      <td>1</td>\n      <td>16</td>\n      <td>2019-05-26</td>\n      <td>0.27</td>\n      <td>1</td>\n      <td>365</td>\n    </tr>\n  </tbody>\n</table>\n</div>",
      "text/plain": "         id                                            name    host_id  \\\n0   5728806                    Large private room in Nolita    4271676   \n1   2243769              Super Bowl New York City Apartment   11460768   \n2  35515415  COZY APT CLOSE TO LGA & JFK AND TRANSPORTATION  267193767   \n3  36202006    Stream-Pressed Paradise (Laundry Room Setup)   43392243   \n4   3780951                       Charming Harlem apartment   16065171   \n\n  host_name neighbourhood_group    neighbourhood  latitude  longitude  \\\n0       Nat           Manhattan           Nolita  40.72217  -73.99481   \n1     Brian           Manhattan  Upper West Side  40.80020  -73.96045   \n2     Jenny              Queens    East Elmhurst  40.75558  -73.89316   \n3      Rita       Staten Island          Concord  40.60110  -74.07830   \n4      Gina           Manhattan           Harlem  40.81022  -73.94266   \n\n         room_type  price  minimum_nights  number_of_reviews last_review  \\\n0     Private room    120               7                  3  2015-09-01   \n1  Entire home/apt   1500               1                  0         NaN   \n2  Entire home/apt    200               2                  4  2019-07-05   \n3      Shared room     30               2                  0         NaN   \n4      Shared room    115               1                 16  2019-05-26   \n\n   reviews_per_month  calculated_host_listings_count  availability_365  \n0               0.06                               3                 0  \n1                NaN                               1                 0  \n2               4.00                               1               365  \n3                NaN                               4                82  \n4               0.27                               1               365  "
     },
     "execution_count": 19,
     "metadata": {},
     "output_type": "execute_result"
    }
   ],
   "source": [
    "path = raw_data_path('train.csv')\n",
    "df   = pd.read_csv(path)\n",
    "\n",
    "df.head()"
   ]
  },
  {
   "cell_type": "markdown",
   "metadata": {},
   "source": [
    "## Filling NaN values"
   ]
  },
  {
   "cell_type": "code",
   "execution_count": 20,
   "metadata": {},
   "outputs": [
    {
     "data": {
      "text/plain": "id                                 0.000000\nname                               0.035061\nhost_id                            0.000000\nhost_name                          0.037983\nneighbourhood_group                0.000000\nneighbourhood                      0.000000\nlatitude                           0.000000\nlongitude                          0.000000\nroom_type                          0.000000\nprice                              0.000000\nminimum_nights                     0.000000\nnumber_of_reviews                  0.000000\nlast_review                       20.399696\nreviews_per_month                 20.399696\ncalculated_host_listings_count     0.000000\navailability_365                   0.000000\ndtype: float64"
     },
     "execution_count": 20,
     "metadata": {},
     "output_type": "execute_result"
    }
   ],
   "source": [
    "missing_values_percent(df)"
   ]
  },
  {
   "cell_type": "code",
   "execution_count": 21,
   "metadata": {},
   "outputs": [],
   "source": [
    "# Drop name column\n",
    "df = df.drop(\"name\", 1)\n",
    "\n",
    "# Filling unknown host-name with \"AAA\"\n",
    "df.host_name = df.host_name.fillna(\"AAA\")\n",
    "\n",
    "# Replacing missing reviews-per-month with mean reviews per month \n",
    "mean_rpm = df.reviews_per_month.mean()\n",
    "df.reviews_per_month = df.reviews_per_month.fillna(mean_rpm)\n",
    "\n",
    "# Missing last-review dates filled with arbitrary date ('2001-01-01')\n",
    "df.last_review = df.last_review.fillna('2001-01-01')"
   ]
  },
  {
   "cell_type": "code",
   "execution_count": 22,
   "metadata": {},
   "outputs": [
    {
     "data": {
      "text/plain": "id                                0.0\nhost_id                           0.0\nhost_name                         0.0\nneighbourhood_group               0.0\nneighbourhood                     0.0\nlatitude                          0.0\nlongitude                         0.0\nroom_type                         0.0\nprice                             0.0\nminimum_nights                    0.0\nnumber_of_reviews                 0.0\nlast_review                       0.0\nreviews_per_month                 0.0\ncalculated_host_listings_count    0.0\navailability_365                  0.0\ndtype: float64"
     },
     "execution_count": 22,
     "metadata": {},
     "output_type": "execute_result"
    }
   ],
   "source": [
    "missing_values_percent(df)"
   ]
  },
  {
   "cell_type": "markdown",
   "metadata": {},
   "source": [
    "## Label Encoding DF"
   ]
  },
  {
   "cell_type": "code",
   "execution_count": 23,
   "metadata": {},
   "outputs": [
    {
     "data": {
      "text/html": "<div>\n<style scoped>\n    .dataframe tbody tr th:only-of-type {\n        vertical-align: middle;\n    }\n\n    .dataframe tbody tr th {\n        vertical-align: top;\n    }\n\n    .dataframe thead th {\n        text-align: right;\n    }\n</style>\n<table border=\"1\" class=\"dataframe\">\n  <thead>\n    <tr style=\"text-align: right;\">\n      <th></th>\n      <th>host_name</th>\n      <th>neighbourhood_group</th>\n      <th>neighbourhood</th>\n      <th>room_type</th>\n      <th>last_review</th>\n    </tr>\n  </thead>\n  <tbody>\n    <tr>\n      <th>0</th>\n      <td>Nat</td>\n      <td>Manhattan</td>\n      <td>Nolita</td>\n      <td>Private room</td>\n      <td>2015-09-01</td>\n    </tr>\n    <tr>\n      <th>1</th>\n      <td>Brian</td>\n      <td>Manhattan</td>\n      <td>Upper West Side</td>\n      <td>Entire home/apt</td>\n      <td>2001-01-01</td>\n    </tr>\n    <tr>\n      <th>2</th>\n      <td>Jenny</td>\n      <td>Queens</td>\n      <td>East Elmhurst</td>\n      <td>Entire home/apt</td>\n      <td>2019-07-05</td>\n    </tr>\n    <tr>\n      <th>3</th>\n      <td>Rita</td>\n      <td>Staten Island</td>\n      <td>Concord</td>\n      <td>Shared room</td>\n      <td>2001-01-01</td>\n    </tr>\n    <tr>\n      <th>4</th>\n      <td>Gina</td>\n      <td>Manhattan</td>\n      <td>Harlem</td>\n      <td>Shared room</td>\n      <td>2019-05-26</td>\n    </tr>\n  </tbody>\n</table>\n</div>",
      "text/plain": "  host_name neighbourhood_group    neighbourhood        room_type last_review\n0       Nat           Manhattan           Nolita     Private room  2015-09-01\n1     Brian           Manhattan  Upper West Side  Entire home/apt  2001-01-01\n2     Jenny              Queens    East Elmhurst  Entire home/apt  2019-07-05\n3      Rita       Staten Island          Concord      Shared room  2001-01-01\n4      Gina           Manhattan           Harlem      Shared room  2019-05-26"
     },
     "execution_count": 23,
     "metadata": {},
     "output_type": "execute_result"
    }
   ],
   "source": [
    "get_categorical_df(df).head()"
   ]
  },
  {
   "cell_type": "code",
   "execution_count": 24,
   "metadata": {},
   "outputs": [
    {
     "data": {
      "text/plain": "Index(['host_name', 'neighbourhood_group', 'neighbourhood', 'room_type',\n       'last_review'],\n      dtype='object')"
     },
     "execution_count": 24,
     "metadata": {},
     "output_type": "execute_result"
    }
   ],
   "source": [
    "cols =['host_name', 'neighbourhood_group', 'neighbourhood', 'room_type']\n",
    "get_categorical_df(df).columns"
   ]
  },
  {
   "cell_type": "code",
   "execution_count": 25,
   "metadata": {},
   "outputs": [],
   "source": [
    "df = label_encode(df, cols)"
   ]
  },
  {
   "cell_type": "code",
   "execution_count": 26,
   "metadata": {},
   "outputs": [
    {
     "data": {
      "text/html": "<div>\n<style scoped>\n    .dataframe tbody tr th:only-of-type {\n        vertical-align: middle;\n    }\n\n    .dataframe tbody tr th {\n        vertical-align: top;\n    }\n\n    .dataframe thead th {\n        text-align: right;\n    }\n</style>\n<table border=\"1\" class=\"dataframe\">\n  <thead>\n    <tr style=\"text-align: right;\">\n      <th></th>\n      <th>id</th>\n      <th>host_id</th>\n      <th>host_name</th>\n      <th>neighbourhood_group</th>\n      <th>neighbourhood</th>\n      <th>latitude</th>\n      <th>longitude</th>\n      <th>room_type</th>\n      <th>price</th>\n      <th>minimum_nights</th>\n      <th>number_of_reviews</th>\n      <th>last_review</th>\n      <th>reviews_per_month</th>\n      <th>calculated_host_listings_count</th>\n      <th>availability_365</th>\n    </tr>\n  </thead>\n  <tbody>\n    <tr>\n      <th>0</th>\n      <td>5728806</td>\n      <td>4271676</td>\n      <td>6215</td>\n      <td>2</td>\n      <td>143</td>\n      <td>40.72217</td>\n      <td>-73.99481</td>\n      <td>1</td>\n      <td>120</td>\n      <td>7</td>\n      <td>3</td>\n      <td>2015-09-01</td>\n      <td>0.060000</td>\n      <td>3</td>\n      <td>0</td>\n    </tr>\n    <tr>\n      <th>1</th>\n      <td>2243769</td>\n      <td>11460768</td>\n      <td>1221</td>\n      <td>2</td>\n      <td>200</td>\n      <td>40.80020</td>\n      <td>-73.96045</td>\n      <td>0</td>\n      <td>1500</td>\n      <td>1</td>\n      <td>0</td>\n      <td>2001-01-01</td>\n      <td>1.377074</td>\n      <td>1</td>\n      <td>0</td>\n    </tr>\n    <tr>\n      <th>2</th>\n      <td>35515415</td>\n      <td>267193767</td>\n      <td>3940</td>\n      <td>3</td>\n      <td>59</td>\n      <td>40.75558</td>\n      <td>-73.89316</td>\n      <td>0</td>\n      <td>200</td>\n      <td>2</td>\n      <td>4</td>\n      <td>2019-07-05</td>\n      <td>4.000000</td>\n      <td>1</td>\n      <td>365</td>\n    </tr>\n    <tr>\n      <th>3</th>\n      <td>36202006</td>\n      <td>43392243</td>\n      <td>7185</td>\n      <td>4</td>\n      <td>46</td>\n      <td>40.60110</td>\n      <td>-74.07830</td>\n      <td>2</td>\n      <td>30</td>\n      <td>2</td>\n      <td>0</td>\n      <td>2001-01-01</td>\n      <td>1.377074</td>\n      <td>4</td>\n      <td>82</td>\n    </tr>\n    <tr>\n      <th>4</th>\n      <td>3780951</td>\n      <td>16065171</td>\n      <td>3052</td>\n      <td>2</td>\n      <td>93</td>\n      <td>40.81022</td>\n      <td>-73.94266</td>\n      <td>2</td>\n      <td>115</td>\n      <td>1</td>\n      <td>16</td>\n      <td>2019-05-26</td>\n      <td>0.270000</td>\n      <td>1</td>\n      <td>365</td>\n    </tr>\n  </tbody>\n</table>\n</div>",
      "text/plain": "         id    host_id  host_name  neighbourhood_group  neighbourhood  \\\n0   5728806    4271676       6215                    2            143   \n1   2243769   11460768       1221                    2            200   \n2  35515415  267193767       3940                    3             59   \n3  36202006   43392243       7185                    4             46   \n4   3780951   16065171       3052                    2             93   \n\n   latitude  longitude  room_type  price  minimum_nights  number_of_reviews  \\\n0  40.72217  -73.99481          1    120               7                  3   \n1  40.80020  -73.96045          0   1500               1                  0   \n2  40.75558  -73.89316          0    200               2                  4   \n3  40.60110  -74.07830          2     30               2                  0   \n4  40.81022  -73.94266          2    115               1                 16   \n\n  last_review  reviews_per_month  calculated_host_listings_count  \\\n0  2015-09-01           0.060000                               3   \n1  2001-01-01           1.377074                               1   \n2  2019-07-05           4.000000                               1   \n3  2001-01-01           1.377074                               4   \n4  2019-05-26           0.270000                               1   \n\n   availability_365  \n0                 0  \n1                 0  \n2               365  \n3                82  \n4               365  "
     },
     "execution_count": 26,
     "metadata": {},
     "output_type": "execute_result"
    }
   ],
   "source": [
    "df.head()"
   ]
  },
  {
   "cell_type": "code",
   "execution_count": 27,
   "metadata": {},
   "outputs": [
    {
     "ename": "ValueError",
     "evalue": "could not convert string to float: '2015-10-21'",
     "output_type": "error",
     "traceback": [
      "\u001b[1;31m---------------------------------------------------------------------------\u001b[0m",
      "\u001b[1;31mValueError\u001b[0m                                Traceback (most recent call last)",
      "\u001b[1;32m<ipython-input-27-2913079cb735>\u001b[0m in \u001b[0;36m<module>\u001b[1;34m\u001b[0m\n\u001b[0;32m      2\u001b[0m \u001b[0my\u001b[0m \u001b[1;33m=\u001b[0m \u001b[0mdf\u001b[0m\u001b[1;33m.\u001b[0m\u001b[0mprice\u001b[0m\u001b[1;33m\u001b[0m\u001b[1;33m\u001b[0m\u001b[0m\n\u001b[0;32m      3\u001b[0m \u001b[1;33m\u001b[0m\u001b[0m\n\u001b[1;32m----> 4\u001b[1;33m \u001b[0mresult\u001b[0m \u001b[1;33m=\u001b[0m \u001b[0mrun_regression_models\u001b[0m\u001b[1;33m(\u001b[0m\u001b[0mX\u001b[0m\u001b[1;33m,\u001b[0m \u001b[0my\u001b[0m\u001b[1;33m,\u001b[0m \u001b[1;32mNone\u001b[0m\u001b[1;33m)\u001b[0m\u001b[1;33m\u001b[0m\u001b[1;33m\u001b[0m\u001b[0m\n\u001b[0m",
      "\u001b[1;32mc:\\Users\\karan\\Desktop\\GLabs_DSMP\\Hackathon2\\utils\\helpers.py\u001b[0m in \u001b[0;36mrun_regression_models\u001b[1;34m(X, y, models, k, test_size, random_state)\u001b[0m\n\u001b[0;32m    266\u001b[0m \u001b[1;32mdef\u001b[0m \u001b[0mrun_model_on_test\u001b[0m\u001b[1;33m(\u001b[0m\u001b[0mmodel\u001b[0m\u001b[1;33m,\u001b[0m \u001b[0mtest_df\u001b[0m\u001b[1;33m)\u001b[0m\u001b[1;33m:\u001b[0m\u001b[1;33m\u001b[0m\u001b[1;33m\u001b[0m\u001b[0m\n\u001b[0;32m    267\u001b[0m \u001b[1;33m\u001b[0m\u001b[0m\n\u001b[1;32m--> 268\u001b[1;33m     \u001b[0my_pred\u001b[0m \u001b[1;33m=\u001b[0m \u001b[0mmodel\u001b[0m\u001b[1;33m.\u001b[0m\u001b[0mpredict\u001b[0m\u001b[1;33m(\u001b[0m\u001b[0mtest_df\u001b[0m\u001b[1;33m)\u001b[0m\u001b[1;33m\u001b[0m\u001b[1;33m\u001b[0m\u001b[0m\n\u001b[0m\u001b[0;32m    269\u001b[0m     \u001b[1;32mreturn\u001b[0m \u001b[0my_pred\u001b[0m\u001b[1;33m\u001b[0m\u001b[1;33m\u001b[0m\u001b[0m\n\u001b[0;32m    270\u001b[0m \u001b[1;33m\u001b[0m\u001b[0m\n",
      "\u001b[1;32mc:\\Users\\karan\\Desktop\\GLabs_DSMP\\Hackathon2\\utils\\helpers.py\u001b[0m in \u001b[0;36mrun_model\u001b[1;34m(name, model)\u001b[0m\n\u001b[0;32m    256\u001b[0m \u001b[1;33m\u001b[0m\u001b[0m\n\u001b[0;32m    257\u001b[0m     \u001b[0mresults\u001b[0m \u001b[1;33m=\u001b[0m \u001b[1;33m{\u001b[0m\u001b[1;33m}\u001b[0m\u001b[1;33m\u001b[0m\u001b[1;33m\u001b[0m\u001b[0m\n\u001b[1;32m--> 258\u001b[1;33m \u001b[1;33m\u001b[0m\u001b[0m\n\u001b[0m\u001b[0;32m    259\u001b[0m     \u001b[1;32mfor\u001b[0m \u001b[0mmodel_name\u001b[0m\u001b[1;33m,\u001b[0m \u001b[0mmodel_obj\u001b[0m \u001b[1;32min\u001b[0m \u001b[0mregression_models\u001b[0m\u001b[1;33m.\u001b[0m\u001b[0mitems\u001b[0m\u001b[1;33m(\u001b[0m\u001b[1;33m)\u001b[0m\u001b[1;33m:\u001b[0m\u001b[1;33m\u001b[0m\u001b[1;33m\u001b[0m\u001b[0m\n\u001b[0;32m    260\u001b[0m         \u001b[0mmodel\u001b[0m\u001b[1;33m,\u001b[0m \u001b[0mscore\u001b[0m \u001b[1;33m=\u001b[0m \u001b[0mrun_model\u001b[0m\u001b[1;33m(\u001b[0m\u001b[0mmodel_name\u001b[0m\u001b[1;33m,\u001b[0m \u001b[0mmodel_obj\u001b[0m\u001b[1;33m(\u001b[0m\u001b[1;33m)\u001b[0m\u001b[1;33m)\u001b[0m\u001b[1;33m\u001b[0m\u001b[1;33m\u001b[0m\u001b[0m\n",
      "\u001b[1;32m~\\.virtualenvs\\Titanic-jbwzvpI8\\lib\\site-packages\\sklearn\\linear_model\\_base.py\u001b[0m in \u001b[0;36mfit\u001b[1;34m(self, X, y, sample_weight)\u001b[0m\n\u001b[0;32m    490\u001b[0m         \u001b[0mn_jobs_\u001b[0m \u001b[1;33m=\u001b[0m \u001b[0mself\u001b[0m\u001b[1;33m.\u001b[0m\u001b[0mn_jobs\u001b[0m\u001b[1;33m\u001b[0m\u001b[1;33m\u001b[0m\u001b[0m\n\u001b[0;32m    491\u001b[0m         X, y = check_X_y(X, y, accept_sparse=['csr', 'csc', 'coo'],\n\u001b[1;32m--> 492\u001b[1;33m                          y_numeric=True, multi_output=True)\n\u001b[0m\u001b[0;32m    493\u001b[0m \u001b[1;33m\u001b[0m\u001b[0m\n\u001b[0;32m    494\u001b[0m         \u001b[1;32mif\u001b[0m \u001b[0msample_weight\u001b[0m \u001b[1;32mis\u001b[0m \u001b[1;32mnot\u001b[0m \u001b[1;32mNone\u001b[0m\u001b[1;33m:\u001b[0m\u001b[1;33m\u001b[0m\u001b[1;33m\u001b[0m\u001b[0m\n",
      "\u001b[1;32m~\\.virtualenvs\\Titanic-jbwzvpI8\\lib\\site-packages\\sklearn\\utils\\validation.py\u001b[0m in \u001b[0;36mcheck_X_y\u001b[1;34m(X, y, accept_sparse, accept_large_sparse, dtype, order, copy, force_all_finite, ensure_2d, allow_nd, multi_output, ensure_min_samples, ensure_min_features, y_numeric, warn_on_dtype, estimator)\u001b[0m\n\u001b[0;32m    753\u001b[0m                     \u001b[0mensure_min_features\u001b[0m\u001b[1;33m=\u001b[0m\u001b[0mensure_min_features\u001b[0m\u001b[1;33m,\u001b[0m\u001b[1;33m\u001b[0m\u001b[1;33m\u001b[0m\u001b[0m\n\u001b[0;32m    754\u001b[0m                     \u001b[0mwarn_on_dtype\u001b[0m\u001b[1;33m=\u001b[0m\u001b[0mwarn_on_dtype\u001b[0m\u001b[1;33m,\u001b[0m\u001b[1;33m\u001b[0m\u001b[1;33m\u001b[0m\u001b[0m\n\u001b[1;32m--> 755\u001b[1;33m                     estimator=estimator)\n\u001b[0m\u001b[0;32m    756\u001b[0m     \u001b[1;32mif\u001b[0m \u001b[0mmulti_output\u001b[0m\u001b[1;33m:\u001b[0m\u001b[1;33m\u001b[0m\u001b[1;33m\u001b[0m\u001b[0m\n\u001b[0;32m    757\u001b[0m         y = check_array(y, 'csr', force_all_finite=True, ensure_2d=False,\n",
      "\u001b[1;32m~\\.virtualenvs\\Titanic-jbwzvpI8\\lib\\site-packages\\sklearn\\utils\\validation.py\u001b[0m in \u001b[0;36mcheck_array\u001b[1;34m(array, accept_sparse, accept_large_sparse, dtype, order, copy, force_all_finite, ensure_2d, allow_nd, ensure_min_samples, ensure_min_features, warn_on_dtype, estimator)\u001b[0m\n\u001b[0;32m    529\u001b[0m                     \u001b[0marray\u001b[0m \u001b[1;33m=\u001b[0m \u001b[0marray\u001b[0m\u001b[1;33m.\u001b[0m\u001b[0mastype\u001b[0m\u001b[1;33m(\u001b[0m\u001b[0mdtype\u001b[0m\u001b[1;33m,\u001b[0m \u001b[0mcasting\u001b[0m\u001b[1;33m=\u001b[0m\u001b[1;34m\"unsafe\"\u001b[0m\u001b[1;33m,\u001b[0m \u001b[0mcopy\u001b[0m\u001b[1;33m=\u001b[0m\u001b[1;32mFalse\u001b[0m\u001b[1;33m)\u001b[0m\u001b[1;33m\u001b[0m\u001b[1;33m\u001b[0m\u001b[0m\n\u001b[0;32m    530\u001b[0m                 \u001b[1;32melse\u001b[0m\u001b[1;33m:\u001b[0m\u001b[1;33m\u001b[0m\u001b[1;33m\u001b[0m\u001b[0m\n\u001b[1;32m--> 531\u001b[1;33m                     \u001b[0marray\u001b[0m \u001b[1;33m=\u001b[0m \u001b[0mnp\u001b[0m\u001b[1;33m.\u001b[0m\u001b[0masarray\u001b[0m\u001b[1;33m(\u001b[0m\u001b[0marray\u001b[0m\u001b[1;33m,\u001b[0m \u001b[0morder\u001b[0m\u001b[1;33m=\u001b[0m\u001b[0morder\u001b[0m\u001b[1;33m,\u001b[0m \u001b[0mdtype\u001b[0m\u001b[1;33m=\u001b[0m\u001b[0mdtype\u001b[0m\u001b[1;33m)\u001b[0m\u001b[1;33m\u001b[0m\u001b[1;33m\u001b[0m\u001b[0m\n\u001b[0m\u001b[0;32m    532\u001b[0m             \u001b[1;32mexcept\u001b[0m \u001b[0mComplexWarning\u001b[0m\u001b[1;33m:\u001b[0m\u001b[1;33m\u001b[0m\u001b[1;33m\u001b[0m\u001b[0m\n\u001b[0;32m    533\u001b[0m                 raise ValueError(\"Complex data not supported\\n\"\n",
      "\u001b[1;32m~\\.virtualenvs\\Titanic-jbwzvpI8\\lib\\site-packages\\numpy\\core\\_asarray.py\u001b[0m in \u001b[0;36masarray\u001b[1;34m(a, dtype, order)\u001b[0m\n\u001b[0;32m     83\u001b[0m \u001b[1;33m\u001b[0m\u001b[0m\n\u001b[0;32m     84\u001b[0m     \"\"\"\n\u001b[1;32m---> 85\u001b[1;33m     \u001b[1;32mreturn\u001b[0m \u001b[0marray\u001b[0m\u001b[1;33m(\u001b[0m\u001b[0ma\u001b[0m\u001b[1;33m,\u001b[0m \u001b[0mdtype\u001b[0m\u001b[1;33m,\u001b[0m \u001b[0mcopy\u001b[0m\u001b[1;33m=\u001b[0m\u001b[1;32mFalse\u001b[0m\u001b[1;33m,\u001b[0m \u001b[0morder\u001b[0m\u001b[1;33m=\u001b[0m\u001b[0morder\u001b[0m\u001b[1;33m)\u001b[0m\u001b[1;33m\u001b[0m\u001b[1;33m\u001b[0m\u001b[0m\n\u001b[0m\u001b[0;32m     86\u001b[0m \u001b[1;33m\u001b[0m\u001b[0m\n\u001b[0;32m     87\u001b[0m \u001b[1;33m\u001b[0m\u001b[0m\n",
      "\u001b[1;31mValueError\u001b[0m: could not convert string to float: '2015-10-21'"
     ]
    }
   ],
   "source": [
    "X = df.drop(['price'], 1)\n",
    "y = df.price\n",
    "\n",
    "result = run_regression_models(X, y, None)"
   ]
  },
  {
   "cell_type": "code",
   "execution_count": null,
   "metadata": {},
   "outputs": [],
   "source": []
  },
  {
   "cell_type": "code",
   "execution_count": null,
   "metadata": {},
   "outputs": [],
   "source": []
  },
  {
   "cell_type": "code",
   "execution_count": null,
   "metadata": {},
   "outputs": [],
   "source": []
  },
  {
   "cell_type": "code",
   "execution_count": null,
   "metadata": {},
   "outputs": [],
   "source": []
  },
  {
   "cell_type": "code",
   "execution_count": null,
   "metadata": {},
   "outputs": [],
   "source": []
  },
  {
   "cell_type": "code",
   "execution_count": null,
   "metadata": {},
   "outputs": [],
   "source": []
  },
  {
   "cell_type": "markdown",
   "metadata": {},
   "source": [
    "## END"
   ]
  }
 ]
}