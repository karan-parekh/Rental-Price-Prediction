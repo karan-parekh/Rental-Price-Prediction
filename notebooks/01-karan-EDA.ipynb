{
 "nbformat": 4,
 "nbformat_minor": 2,
 "metadata": {
  "language_info": {
   "name": "python",
   "codemirror_mode": {
    "name": "ipython",
    "version": 3
   },
   "version": "3.7.4-final"
  },
  "orig_nbformat": 2,
  "file_extension": ".py",
  "mimetype": "text/x-python",
  "name": "python",
  "npconvert_exporter": "python",
  "pygments_lexer": "ipython3",
  "version": 3,
  "kernelspec": {
   "name": "python37432bittitanicpipenvc73c4e7f743741118feccf7f89e2f070",
   "display_name": "Python 3.7.4 32-bit ('Titanic': pipenv)"
  }
 },
 "cells": [
  {
   "cell_type": "markdown",
   "metadata": {},
   "source": [
    "## Adding root directory to system-path"
   ]
  },
  {
   "cell_type": "code",
   "execution_count": 33,
   "metadata": {},
   "outputs": [],
   "source": [
    "import os\n",
    "import sys\n",
    "\n",
    "app_path = os.getcwd().rsplit(os.sep, 1)[0]\n",
    "\n",
    "if app_path not in sys.path:\n",
    "    sys.path.insert(0, app_path)"
   ]
  },
  {
   "cell_type": "markdown",
   "metadata": {},
   "source": [
    "# 0. Imports"
   ]
  },
  {
   "cell_type": "code",
   "execution_count": 34,
   "metadata": {},
   "outputs": [
    {
     "data": {
      "text/plain": "'\\nDEPENDENCIES:\\n    - pandas\\n    - numpy\\n    - geopy\\n'"
     },
     "execution_count": 34,
     "metadata": {},
     "output_type": "execute_result"
    }
   ],
   "source": [
    "import math\n",
    "import numpy as np\n",
    "import pandas as pd \n",
    "\n",
    "from datetime import datetime, timedelta\n",
    "from geopy.distance import great_circle\n",
    "from sklearn.preprocessing import MinMaxScaler, RobustScaler\n",
    "from utils.paths import *\n",
    "from utils.helpers import *\n",
    "\n",
    "\"\"\"\n",
    "DEPENDENCIES:\n",
    "    - pandas\n",
    "    - numpy\n",
    "    - geopy\n",
    "\"\"\""
   ]
  },
  {
   "cell_type": "code",
   "execution_count": 35,
   "metadata": {},
   "outputs": [
    {
     "data": {
      "text/html": "<div>\n<style scoped>\n    .dataframe tbody tr th:only-of-type {\n        vertical-align: middle;\n    }\n\n    .dataframe tbody tr th {\n        vertical-align: top;\n    }\n\n    .dataframe thead th {\n        text-align: right;\n    }\n</style>\n<table border=\"1\" class=\"dataframe\">\n  <thead>\n    <tr style=\"text-align: right;\">\n      <th></th>\n      <th>id</th>\n      <th>name</th>\n      <th>host_id</th>\n      <th>host_name</th>\n      <th>neighbourhood_group</th>\n      <th>neighbourhood</th>\n      <th>latitude</th>\n      <th>longitude</th>\n      <th>room_type</th>\n      <th>price</th>\n      <th>minimum_nights</th>\n      <th>number_of_reviews</th>\n      <th>last_review</th>\n      <th>reviews_per_month</th>\n      <th>calculated_host_listings_count</th>\n      <th>availability_365</th>\n    </tr>\n  </thead>\n  <tbody>\n    <tr>\n      <th>0</th>\n      <td>5728806</td>\n      <td>Large private room in Nolita</td>\n      <td>4271676</td>\n      <td>Nat</td>\n      <td>Manhattan</td>\n      <td>Nolita</td>\n      <td>40.72217</td>\n      <td>-73.99481</td>\n      <td>Private room</td>\n      <td>120</td>\n      <td>7</td>\n      <td>3</td>\n      <td>2015-09-01</td>\n      <td>0.06</td>\n      <td>3</td>\n      <td>0</td>\n    </tr>\n    <tr>\n      <th>1</th>\n      <td>2243769</td>\n      <td>Super Bowl New York City Apartment</td>\n      <td>11460768</td>\n      <td>Brian</td>\n      <td>Manhattan</td>\n      <td>Upper West Side</td>\n      <td>40.80020</td>\n      <td>-73.96045</td>\n      <td>Entire home/apt</td>\n      <td>1500</td>\n      <td>1</td>\n      <td>0</td>\n      <td>NaN</td>\n      <td>NaN</td>\n      <td>1</td>\n      <td>0</td>\n    </tr>\n    <tr>\n      <th>2</th>\n      <td>35515415</td>\n      <td>COZY APT CLOSE TO LGA &amp; JFK AND TRANSPORTATION</td>\n      <td>267193767</td>\n      <td>Jenny</td>\n      <td>Queens</td>\n      <td>East Elmhurst</td>\n      <td>40.75558</td>\n      <td>-73.89316</td>\n      <td>Entire home/apt</td>\n      <td>200</td>\n      <td>2</td>\n      <td>4</td>\n      <td>2019-07-05</td>\n      <td>4.00</td>\n      <td>1</td>\n      <td>365</td>\n    </tr>\n    <tr>\n      <th>3</th>\n      <td>36202006</td>\n      <td>Stream-Pressed Paradise (Laundry Room Setup)</td>\n      <td>43392243</td>\n      <td>Rita</td>\n      <td>Staten Island</td>\n      <td>Concord</td>\n      <td>40.60110</td>\n      <td>-74.07830</td>\n      <td>Shared room</td>\n      <td>30</td>\n      <td>2</td>\n      <td>0</td>\n      <td>NaN</td>\n      <td>NaN</td>\n      <td>4</td>\n      <td>82</td>\n    </tr>\n    <tr>\n      <th>4</th>\n      <td>3780951</td>\n      <td>Charming Harlem apartment</td>\n      <td>16065171</td>\n      <td>Gina</td>\n      <td>Manhattan</td>\n      <td>Harlem</td>\n      <td>40.81022</td>\n      <td>-73.94266</td>\n      <td>Shared room</td>\n      <td>115</td>\n      <td>1</td>\n      <td>16</td>\n      <td>2019-05-26</td>\n      <td>0.27</td>\n      <td>1</td>\n      <td>365</td>\n    </tr>\n  </tbody>\n</table>\n</div>",
      "text/plain": "         id                                            name    host_id  \\\n0   5728806                    Large private room in Nolita    4271676   \n1   2243769              Super Bowl New York City Apartment   11460768   \n2  35515415  COZY APT CLOSE TO LGA & JFK AND TRANSPORTATION  267193767   \n3  36202006    Stream-Pressed Paradise (Laundry Room Setup)   43392243   \n4   3780951                       Charming Harlem apartment   16065171   \n\n  host_name neighbourhood_group    neighbourhood  latitude  longitude  \\\n0       Nat           Manhattan           Nolita  40.72217  -73.99481   \n1     Brian           Manhattan  Upper West Side  40.80020  -73.96045   \n2     Jenny              Queens    East Elmhurst  40.75558  -73.89316   \n3      Rita       Staten Island          Concord  40.60110  -74.07830   \n4      Gina           Manhattan           Harlem  40.81022  -73.94266   \n\n         room_type  price  minimum_nights  number_of_reviews last_review  \\\n0     Private room    120               7                  3  2015-09-01   \n1  Entire home/apt   1500               1                  0         NaN   \n2  Entire home/apt    200               2                  4  2019-07-05   \n3      Shared room     30               2                  0         NaN   \n4      Shared room    115               1                 16  2019-05-26   \n\n   reviews_per_month  calculated_host_listings_count  availability_365  \n0               0.06                               3                 0  \n1                NaN                               1                 0  \n2               4.00                               1               365  \n3                NaN                               4                82  \n4               0.27                               1               365  "
     },
     "execution_count": 35,
     "metadata": {},
     "output_type": "execute_result"
    }
   ],
   "source": [
    "path = raw_data_path('train.csv')\n",
    "# path = inter_data_path('ash_df.csv')\n",
    "# path = inter_data_path('train.csv')\n",
    "df   = pd.read_csv(path)\n",
    "df.head()"
   ]
  },
  {
   "cell_type": "code",
   "execution_count": 36,
   "metadata": {},
   "outputs": [
    {
     "data": {
      "text/html": "<div>\n<style scoped>\n    .dataframe tbody tr th:only-of-type {\n        vertical-align: middle;\n    }\n\n    .dataframe tbody tr th {\n        vertical-align: top;\n    }\n\n    .dataframe thead th {\n        text-align: right;\n    }\n</style>\n<table border=\"1\" class=\"dataframe\">\n  <thead>\n    <tr style=\"text-align: right;\">\n      <th></th>\n      <th>id</th>\n      <th>host_id</th>\n      <th>latitude</th>\n      <th>longitude</th>\n      <th>price</th>\n      <th>minimum_nights</th>\n      <th>number_of_reviews</th>\n      <th>reviews_per_month</th>\n      <th>calculated_host_listings_count</th>\n      <th>availability_365</th>\n    </tr>\n  </thead>\n  <tbody>\n    <tr>\n      <th>count</th>\n      <td>3.422600e+04</td>\n      <td>3.422600e+04</td>\n      <td>34226.000000</td>\n      <td>34226.000000</td>\n      <td>34226.000000</td>\n      <td>34226.000000</td>\n      <td>34226.000000</td>\n      <td>27244.000000</td>\n      <td>34226.000000</td>\n      <td>34226.000000</td>\n    </tr>\n    <tr>\n      <th>mean</th>\n      <td>1.898209e+07</td>\n      <td>6.733847e+07</td>\n      <td>40.729059</td>\n      <td>-73.952070</td>\n      <td>153.480979</td>\n      <td>6.953690</td>\n      <td>23.390931</td>\n      <td>1.377074</td>\n      <td>7.093905</td>\n      <td>113.301730</td>\n    </tr>\n    <tr>\n      <th>std</th>\n      <td>1.097597e+07</td>\n      <td>7.833091e+07</td>\n      <td>0.054604</td>\n      <td>0.046161</td>\n      <td>243.312608</td>\n      <td>20.255833</td>\n      <td>44.476822</td>\n      <td>1.688953</td>\n      <td>32.828412</td>\n      <td>131.892814</td>\n    </tr>\n    <tr>\n      <th>min</th>\n      <td>2.595000e+03</td>\n      <td>2.438000e+03</td>\n      <td>40.499790</td>\n      <td>-74.244420</td>\n      <td>0.000000</td>\n      <td>1.000000</td>\n      <td>0.000000</td>\n      <td>0.010000</td>\n      <td>1.000000</td>\n      <td>0.000000</td>\n    </tr>\n    <tr>\n      <th>25%</th>\n      <td>9.460366e+06</td>\n      <td>7.824440e+06</td>\n      <td>40.690040</td>\n      <td>-73.983150</td>\n      <td>69.000000</td>\n      <td>1.000000</td>\n      <td>1.000000</td>\n      <td>0.190000</td>\n      <td>1.000000</td>\n      <td>0.000000</td>\n    </tr>\n    <tr>\n      <th>50%</th>\n      <td>1.965371e+07</td>\n      <td>3.065628e+07</td>\n      <td>40.722995</td>\n      <td>-73.955700</td>\n      <td>107.000000</td>\n      <td>2.000000</td>\n      <td>5.000000</td>\n      <td>0.730000</td>\n      <td>1.000000</td>\n      <td>45.000000</td>\n    </tr>\n    <tr>\n      <th>75%</th>\n      <td>2.908201e+07</td>\n      <td>1.074344e+08</td>\n      <td>40.763200</td>\n      <td>-73.935982</td>\n      <td>175.000000</td>\n      <td>5.000000</td>\n      <td>24.000000</td>\n      <td>2.020000</td>\n      <td>2.000000</td>\n      <td>229.000000</td>\n    </tr>\n    <tr>\n      <th>max</th>\n      <td>3.648724e+07</td>\n      <td>2.743115e+08</td>\n      <td>40.913060</td>\n      <td>-73.712990</td>\n      <td>10000.000000</td>\n      <td>1250.000000</td>\n      <td>629.000000</td>\n      <td>58.500000</td>\n      <td>327.000000</td>\n      <td>365.000000</td>\n    </tr>\n  </tbody>\n</table>\n</div>",
      "text/plain": "                 id       host_id      latitude     longitude         price  \\\ncount  3.422600e+04  3.422600e+04  34226.000000  34226.000000  34226.000000   \nmean   1.898209e+07  6.733847e+07     40.729059    -73.952070    153.480979   \nstd    1.097597e+07  7.833091e+07      0.054604      0.046161    243.312608   \nmin    2.595000e+03  2.438000e+03     40.499790    -74.244420      0.000000   \n25%    9.460366e+06  7.824440e+06     40.690040    -73.983150     69.000000   \n50%    1.965371e+07  3.065628e+07     40.722995    -73.955700    107.000000   \n75%    2.908201e+07  1.074344e+08     40.763200    -73.935982    175.000000   \nmax    3.648724e+07  2.743115e+08     40.913060    -73.712990  10000.000000   \n\n       minimum_nights  number_of_reviews  reviews_per_month  \\\ncount    34226.000000       34226.000000       27244.000000   \nmean         6.953690          23.390931           1.377074   \nstd         20.255833          44.476822           1.688953   \nmin          1.000000           0.000000           0.010000   \n25%          1.000000           1.000000           0.190000   \n50%          2.000000           5.000000           0.730000   \n75%          5.000000          24.000000           2.020000   \nmax       1250.000000         629.000000          58.500000   \n\n       calculated_host_listings_count  availability_365  \ncount                    34226.000000      34226.000000  \nmean                         7.093905        113.301730  \nstd                         32.828412        131.892814  \nmin                          1.000000          0.000000  \n25%                          1.000000          0.000000  \n50%                          1.000000         45.000000  \n75%                          2.000000        229.000000  \nmax                        327.000000        365.000000  "
     },
     "execution_count": 36,
     "metadata": {},
     "output_type": "execute_result"
    }
   ],
   "source": [
    "df.describe()"
   ]
  },
  {
   "cell_type": "code",
   "execution_count": 37,
   "metadata": {},
   "outputs": [
    {
     "data": {
      "text/plain": "(34226, 16)"
     },
     "execution_count": 37,
     "metadata": {},
     "output_type": "execute_result"
    }
   ],
   "source": [
    "df.shape"
   ]
  },
  {
   "cell_type": "markdown",
   "metadata": {},
   "source": [
    "# 1. Renaming calculated_host_listings_count to listing_per_host"
   ]
  },
  {
   "cell_type": "code",
   "execution_count": 38,
   "metadata": {},
   "outputs": [],
   "source": [
    "df.rename(columns={'calculated_host_listings_count': 'listing_per_host'}, inplace=True)"
   ]
  },
  {
   "cell_type": "markdown",
   "metadata": {},
   "source": [
    "# 2. Transforming last-review from datetime to no-of-days with timdelta of latest review with each review"
   ]
  },
  {
   "cell_type": "code",
   "execution_count": 39,
   "metadata": {},
   "outputs": [],
   "source": [
    "\n",
    "def transform_last_review(df: pd.DataFrame) -> pd.DataFrame:\n",
    "    \"\"\"Transforms last_review column from datetime obj to no of days from latest review -> int\"\"\"\n",
    "\n",
    "    try:\n",
    "        df['last_review']\n",
    "\n",
    "    except TypeError:\n",
    "        print(\" NO last_review COLUMN FOUND\")\n",
    "        return\n",
    "    \n",
    "    lastest_review = datetime.strptime(df.last_review.sort_values(ascending=False).iloc[0], \"%Y-%m-%d\")\n",
    "\n",
    "    def get_timedelta(reference: str, origin=lastest_review) -> int:\n",
    "        reference = datetime.strptime(reference, \"%Y-%m-%d\")\n",
    "        delta = origin - reference\n",
    "        return delta.days\n",
    "\n",
    "    last_review_days = []\n",
    "\n",
    "    for review in df.last_review:\n",
    "        last_review_days.append(get_timedelta(review))\n",
    "\n",
    "    df['last_review'] = last_review_days\n",
    "    return df"
   ]
  },
  {
   "cell_type": "markdown",
   "metadata": {},
   "source": [
    "### Note: Missing last-review dates to be filled with an arbitrary date, before transforming (Here: '2001-01-01')."
   ]
  },
  {
   "cell_type": "code",
   "execution_count": 40,
   "metadata": {},
   "outputs": [],
   "source": [
    "df.last_review = df.last_review.fillna('2001-01-01')\n",
    "\n",
    "df = transform_last_review(df)"
   ]
  },
  {
   "cell_type": "code",
   "execution_count": 41,
   "metadata": {},
   "outputs": [
    {
     "data": {
      "text/html": "<div>\n<style scoped>\n    .dataframe tbody tr th:only-of-type {\n        vertical-align: middle;\n    }\n\n    .dataframe tbody tr th {\n        vertical-align: top;\n    }\n\n    .dataframe thead th {\n        text-align: right;\n    }\n</style>\n<table border=\"1\" class=\"dataframe\">\n  <thead>\n    <tr style=\"text-align: right;\">\n      <th></th>\n      <th>id</th>\n      <th>name</th>\n      <th>host_id</th>\n      <th>host_name</th>\n      <th>neighbourhood_group</th>\n      <th>neighbourhood</th>\n      <th>latitude</th>\n      <th>longitude</th>\n      <th>room_type</th>\n      <th>price</th>\n      <th>minimum_nights</th>\n      <th>number_of_reviews</th>\n      <th>last_review</th>\n      <th>reviews_per_month</th>\n      <th>listing_per_host</th>\n      <th>availability_365</th>\n    </tr>\n  </thead>\n  <tbody>\n    <tr>\n      <th>0</th>\n      <td>5728806</td>\n      <td>Large private room in Nolita</td>\n      <td>4271676</td>\n      <td>Nat</td>\n      <td>Manhattan</td>\n      <td>Nolita</td>\n      <td>40.72217</td>\n      <td>-73.99481</td>\n      <td>Private room</td>\n      <td>120</td>\n      <td>7</td>\n      <td>3</td>\n      <td>1406</td>\n      <td>0.06</td>\n      <td>3</td>\n      <td>0</td>\n    </tr>\n    <tr>\n      <th>1</th>\n      <td>2243769</td>\n      <td>Super Bowl New York City Apartment</td>\n      <td>11460768</td>\n      <td>Brian</td>\n      <td>Manhattan</td>\n      <td>Upper West Side</td>\n      <td>40.80020</td>\n      <td>-73.96045</td>\n      <td>Entire home/apt</td>\n      <td>1500</td>\n      <td>1</td>\n      <td>0</td>\n      <td>6762</td>\n      <td>NaN</td>\n      <td>1</td>\n      <td>0</td>\n    </tr>\n    <tr>\n      <th>2</th>\n      <td>35515415</td>\n      <td>COZY APT CLOSE TO LGA &amp; JFK AND TRANSPORTATION</td>\n      <td>267193767</td>\n      <td>Jenny</td>\n      <td>Queens</td>\n      <td>East Elmhurst</td>\n      <td>40.75558</td>\n      <td>-73.89316</td>\n      <td>Entire home/apt</td>\n      <td>200</td>\n      <td>2</td>\n      <td>4</td>\n      <td>3</td>\n      <td>4.00</td>\n      <td>1</td>\n      <td>365</td>\n    </tr>\n    <tr>\n      <th>3</th>\n      <td>36202006</td>\n      <td>Stream-Pressed Paradise (Laundry Room Setup)</td>\n      <td>43392243</td>\n      <td>Rita</td>\n      <td>Staten Island</td>\n      <td>Concord</td>\n      <td>40.60110</td>\n      <td>-74.07830</td>\n      <td>Shared room</td>\n      <td>30</td>\n      <td>2</td>\n      <td>0</td>\n      <td>6762</td>\n      <td>NaN</td>\n      <td>4</td>\n      <td>82</td>\n    </tr>\n    <tr>\n      <th>4</th>\n      <td>3780951</td>\n      <td>Charming Harlem apartment</td>\n      <td>16065171</td>\n      <td>Gina</td>\n      <td>Manhattan</td>\n      <td>Harlem</td>\n      <td>40.81022</td>\n      <td>-73.94266</td>\n      <td>Shared room</td>\n      <td>115</td>\n      <td>1</td>\n      <td>16</td>\n      <td>43</td>\n      <td>0.27</td>\n      <td>1</td>\n      <td>365</td>\n    </tr>\n  </tbody>\n</table>\n</div>",
      "text/plain": "         id                                            name    host_id  \\\n0   5728806                    Large private room in Nolita    4271676   \n1   2243769              Super Bowl New York City Apartment   11460768   \n2  35515415  COZY APT CLOSE TO LGA & JFK AND TRANSPORTATION  267193767   \n3  36202006    Stream-Pressed Paradise (Laundry Room Setup)   43392243   \n4   3780951                       Charming Harlem apartment   16065171   \n\n  host_name neighbourhood_group    neighbourhood  latitude  longitude  \\\n0       Nat           Manhattan           Nolita  40.72217  -73.99481   \n1     Brian           Manhattan  Upper West Side  40.80020  -73.96045   \n2     Jenny              Queens    East Elmhurst  40.75558  -73.89316   \n3      Rita       Staten Island          Concord  40.60110  -74.07830   \n4      Gina           Manhattan           Harlem  40.81022  -73.94266   \n\n         room_type  price  minimum_nights  number_of_reviews  last_review  \\\n0     Private room    120               7                  3         1406   \n1  Entire home/apt   1500               1                  0         6762   \n2  Entire home/apt    200               2                  4            3   \n3      Shared room     30               2                  0         6762   \n4      Shared room    115               1                 16           43   \n\n   reviews_per_month  listing_per_host  availability_365  \n0               0.06                 3                 0  \n1                NaN                 1                 0  \n2               4.00                 1               365  \n3                NaN                 4                82  \n4               0.27                 1               365  "
     },
     "execution_count": 41,
     "metadata": {},
     "output_type": "execute_result"
    }
   ],
   "source": [
    "df.head()"
   ]
  },
  {
   "cell_type": "markdown",
   "metadata": {},
   "source": [
    "# 3. Calculate distance from centre of NYC and eliminate lattitude and longitude"
   ]
  },
  {
   "cell_type": "code",
   "execution_count": 42,
   "metadata": {},
   "outputs": [],
   "source": [
    "def create_radius_feature(df: pd.DataFrame) -> pd.DataFrame:\n",
    "    \"\"\"Calculates distance of each listing with the centre of NYC. stored in radius column\"\"\"\n",
    "\n",
    "    try:\n",
    "        lat_lon = df[['latitude', 'longitude']]\n",
    "\n",
    "    except TypeError:\n",
    "        print(\" NO latitue or longitude COLUMN FOUND \")\n",
    "        return\n",
    "\n",
    "    def get_radius(lat, lon):\n",
    "        nyc_centre    = (74.0060, 40.7128)\n",
    "        accommodation = (lat, lon)\n",
    "        return great_circle(nyc_centre, accommodation).km\n",
    "\n",
    "    radii = []\n",
    "\n",
    "    for value in lat_lon.values:\n",
    "        dist = get_radius(value[0], value[1])\n",
    "        radii.append(round(dist, 3))\n",
    "\n",
    "    df['radius'] = radii\n",
    "    \n",
    "    return df"
   ]
  },
  {
   "cell_type": "code",
   "execution_count": 43,
   "metadata": {},
   "outputs": [],
   "source": [
    "df = create_radius_feature(df)"
   ]
  },
  {
   "cell_type": "code",
   "execution_count": 44,
   "metadata": {},
   "outputs": [
    {
     "data": {
      "text/html": "<div>\n<style scoped>\n    .dataframe tbody tr th:only-of-type {\n        vertical-align: middle;\n    }\n\n    .dataframe tbody tr th {\n        vertical-align: top;\n    }\n\n    .dataframe thead th {\n        text-align: right;\n    }\n</style>\n<table border=\"1\" class=\"dataframe\">\n  <thead>\n    <tr style=\"text-align: right;\">\n      <th></th>\n      <th>id</th>\n      <th>name</th>\n      <th>host_id</th>\n      <th>host_name</th>\n      <th>neighbourhood_group</th>\n      <th>neighbourhood</th>\n      <th>latitude</th>\n      <th>longitude</th>\n      <th>room_type</th>\n      <th>price</th>\n      <th>minimum_nights</th>\n      <th>number_of_reviews</th>\n      <th>last_review</th>\n      <th>reviews_per_month</th>\n      <th>listing_per_host</th>\n      <th>availability_365</th>\n      <th>radius</th>\n    </tr>\n  </thead>\n  <tbody>\n    <tr>\n      <th>0</th>\n      <td>5728806</td>\n      <td>Large private room in Nolita</td>\n      <td>4271676</td>\n      <td>Nat</td>\n      <td>Manhattan</td>\n      <td>Nolita</td>\n      <td>40.72217</td>\n      <td>-73.99481</td>\n      <td>Private room</td>\n      <td>120</td>\n      <td>7</td>\n      <td>3</td>\n      <td>1406</td>\n      <td>0.06</td>\n      <td>3</td>\n      <td>0</td>\n      <td>6374.418</td>\n    </tr>\n    <tr>\n      <th>1</th>\n      <td>2243769</td>\n      <td>Super Bowl New York City Apartment</td>\n      <td>11460768</td>\n      <td>Brian</td>\n      <td>Manhattan</td>\n      <td>Upper West Side</td>\n      <td>40.80020</td>\n      <td>-73.96045</td>\n      <td>Entire home/apt</td>\n      <td>1500</td>\n      <td>1</td>\n      <td>0</td>\n      <td>6762</td>\n      <td>NaN</td>\n      <td>1</td>\n      <td>0</td>\n      <td>6365.273</td>\n    </tr>\n    <tr>\n      <th>2</th>\n      <td>35515415</td>\n      <td>COZY APT CLOSE TO LGA &amp; JFK AND TRANSPORTATION</td>\n      <td>267193767</td>\n      <td>Jenny</td>\n      <td>Queens</td>\n      <td>East Elmhurst</td>\n      <td>40.75558</td>\n      <td>-73.89316</td>\n      <td>Entire home/apt</td>\n      <td>200</td>\n      <td>2</td>\n      <td>4</td>\n      <td>3</td>\n      <td>4.00</td>\n      <td>1</td>\n      <td>365</td>\n      <td>6368.323</td>\n    </tr>\n    <tr>\n      <th>3</th>\n      <td>36202006</td>\n      <td>Stream-Pressed Paradise (Laundry Room Setup)</td>\n      <td>43392243</td>\n      <td>Rita</td>\n      <td>Staten Island</td>\n      <td>Concord</td>\n      <td>40.60110</td>\n      <td>-74.07830</td>\n      <td>Shared room</td>\n      <td>30</td>\n      <td>2</td>\n      <td>0</td>\n      <td>6762</td>\n      <td>NaN</td>\n      <td>4</td>\n      <td>82</td>\n      <td>6389.364</td>\n    </tr>\n    <tr>\n      <th>4</th>\n      <td>3780951</td>\n      <td>Charming Harlem apartment</td>\n      <td>16065171</td>\n      <td>Gina</td>\n      <td>Manhattan</td>\n      <td>Harlem</td>\n      <td>40.81022</td>\n      <td>-73.94266</td>\n      <td>Shared room</td>\n      <td>115</td>\n      <td>1</td>\n      <td>16</td>\n      <td>43</td>\n      <td>0.27</td>\n      <td>1</td>\n      <td>365</td>\n      <td>6363.764</td>\n    </tr>\n  </tbody>\n</table>\n</div>",
      "text/plain": "         id                                            name    host_id  \\\n0   5728806                    Large private room in Nolita    4271676   \n1   2243769              Super Bowl New York City Apartment   11460768   \n2  35515415  COZY APT CLOSE TO LGA & JFK AND TRANSPORTATION  267193767   \n3  36202006    Stream-Pressed Paradise (Laundry Room Setup)   43392243   \n4   3780951                       Charming Harlem apartment   16065171   \n\n  host_name neighbourhood_group    neighbourhood  latitude  longitude  \\\n0       Nat           Manhattan           Nolita  40.72217  -73.99481   \n1     Brian           Manhattan  Upper West Side  40.80020  -73.96045   \n2     Jenny              Queens    East Elmhurst  40.75558  -73.89316   \n3      Rita       Staten Island          Concord  40.60110  -74.07830   \n4      Gina           Manhattan           Harlem  40.81022  -73.94266   \n\n         room_type  price  minimum_nights  number_of_reviews  last_review  \\\n0     Private room    120               7                  3         1406   \n1  Entire home/apt   1500               1                  0         6762   \n2  Entire home/apt    200               2                  4            3   \n3      Shared room     30               2                  0         6762   \n4      Shared room    115               1                 16           43   \n\n   reviews_per_month  listing_per_host  availability_365    radius  \n0               0.06                 3                 0  6374.418  \n1                NaN                 1                 0  6365.273  \n2               4.00                 1               365  6368.323  \n3                NaN                 4                82  6389.364  \n4               0.27                 1               365  6363.764  "
     },
     "execution_count": 44,
     "metadata": {},
     "output_type": "execute_result"
    }
   ],
   "source": [
    "df.head()"
   ]
  },
  {
   "cell_type": "markdown",
   "metadata": {},
   "source": [
    "# 4. Dropping Unwanted columns"
   ]
  },
  {
   "cell_type": "code",
   "execution_count": 45,
   "metadata": {},
   "outputs": [],
   "source": [
    "unwanted_cols = [\n",
    "    'id', \n",
    "    'host_id', \n",
    "    'name', \n",
    "    'host_name', \n",
    "    # 'latitude', \n",
    "    # 'longitude', \n",
    "    'neighbourhood', \n",
    "    'reviews_per_month'\n",
    "    ]\n",
    "\n",
    "df = df.drop(unwanted_cols, 1)"
   ]
  },
  {
   "cell_type": "markdown",
   "metadata": {},
   "source": [
    "# 5. Filling NaN values"
   ]
  },
  {
   "cell_type": "code",
   "execution_count": 46,
   "metadata": {},
   "outputs": [
    {
     "data": {
      "text/plain": "neighbourhood_group    0\nlatitude               0\nlongitude              0\nroom_type              0\nprice                  0\nminimum_nights         0\nnumber_of_reviews      0\nlast_review            0\nlisting_per_host       0\navailability_365       0\nradius                 0\ndtype: int64"
     },
     "execution_count": 46,
     "metadata": {},
     "output_type": "execute_result"
    }
   ],
   "source": [
    "missing_values_counts(df)"
   ]
  },
  {
   "cell_type": "markdown",
   "metadata": {},
   "source": [
    "### Replacing missing reviews-per-month with mean reviews per month \n"
   ]
  },
  {
   "cell_type": "code",
   "execution_count": 47,
   "metadata": {},
   "outputs": [],
   "source": [
    "# mean_rpm = df.reviews_per_month.mean()\n",
    "# df.reviews_per_month = df.reviews_per_month.fillna(mean_rpm)"
   ]
  },
  {
   "cell_type": "code",
   "execution_count": 48,
   "metadata": {},
   "outputs": [
    {
     "data": {
      "text/plain": "neighbourhood_group    0\nlatitude               0\nlongitude              0\nroom_type              0\nprice                  0\nminimum_nights         0\nnumber_of_reviews      0\nlast_review            0\nlisting_per_host       0\navailability_365       0\nradius                 0\ndtype: int64"
     },
     "execution_count": 48,
     "metadata": {},
     "output_type": "execute_result"
    }
   ],
   "source": [
    "missing_values_counts(df)"
   ]
  },
  {
   "cell_type": "markdown",
   "metadata": {},
   "source": [
    "# 6. Handling Categorical features"
   ]
  },
  {
   "cell_type": "code",
   "execution_count": 49,
   "metadata": {},
   "outputs": [
    {
     "data": {
      "text/html": "<div>\n<style scoped>\n    .dataframe tbody tr th:only-of-type {\n        vertical-align: middle;\n    }\n\n    .dataframe tbody tr th {\n        vertical-align: top;\n    }\n\n    .dataframe thead th {\n        text-align: right;\n    }\n</style>\n<table border=\"1\" class=\"dataframe\">\n  <thead>\n    <tr style=\"text-align: right;\">\n      <th></th>\n      <th>neighbourhood_group</th>\n      <th>room_type</th>\n    </tr>\n  </thead>\n  <tbody>\n    <tr>\n      <th>0</th>\n      <td>Manhattan</td>\n      <td>Private room</td>\n    </tr>\n    <tr>\n      <th>1</th>\n      <td>Manhattan</td>\n      <td>Entire home/apt</td>\n    </tr>\n    <tr>\n      <th>2</th>\n      <td>Queens</td>\n      <td>Entire home/apt</td>\n    </tr>\n    <tr>\n      <th>3</th>\n      <td>Staten Island</td>\n      <td>Shared room</td>\n    </tr>\n    <tr>\n      <th>4</th>\n      <td>Manhattan</td>\n      <td>Shared room</td>\n    </tr>\n  </tbody>\n</table>\n</div>",
      "text/plain": "  neighbourhood_group        room_type\n0           Manhattan     Private room\n1           Manhattan  Entire home/apt\n2              Queens  Entire home/apt\n3       Staten Island      Shared room\n4           Manhattan      Shared room"
     },
     "execution_count": 49,
     "metadata": {},
     "output_type": "execute_result"
    }
   ],
   "source": [
    "get_categorical_df(df).head()"
   ]
  },
  {
   "cell_type": "markdown",
   "metadata": {},
   "source": [
    "### One-Hot Encoding room_type"
   ]
  },
  {
   "cell_type": "code",
   "execution_count": 50,
   "metadata": {},
   "outputs": [],
   "source": [
    "one_hot_cols = ['room_type', 'neighbourhood_group']\n",
    "df = one_hot_encode(df, one_hot_cols)\n"
   ]
  },
  {
   "cell_type": "code",
   "execution_count": 51,
   "metadata": {},
   "outputs": [
    {
     "data": {
      "text/html": "<div>\n<style scoped>\n    .dataframe tbody tr th:only-of-type {\n        vertical-align: middle;\n    }\n\n    .dataframe tbody tr th {\n        vertical-align: top;\n    }\n\n    .dataframe thead th {\n        text-align: right;\n    }\n</style>\n<table border=\"1\" class=\"dataframe\">\n  <thead>\n    <tr style=\"text-align: right;\">\n      <th></th>\n      <th>latitude</th>\n      <th>longitude</th>\n      <th>price</th>\n      <th>minimum_nights</th>\n      <th>number_of_reviews</th>\n      <th>last_review</th>\n      <th>listing_per_host</th>\n      <th>availability_365</th>\n      <th>radius</th>\n      <th>room_type_Entire home/apt</th>\n      <th>room_type_Private room</th>\n      <th>room_type_Shared room</th>\n      <th>neighbourhood_group_Bronx</th>\n      <th>neighbourhood_group_Brooklyn</th>\n      <th>neighbourhood_group_Manhattan</th>\n      <th>neighbourhood_group_Queens</th>\n      <th>neighbourhood_group_Staten Island</th>\n    </tr>\n  </thead>\n  <tbody>\n    <tr>\n      <th>0</th>\n      <td>40.72217</td>\n      <td>-73.99481</td>\n      <td>120</td>\n      <td>7</td>\n      <td>3</td>\n      <td>1406</td>\n      <td>3</td>\n      <td>0</td>\n      <td>6374.418</td>\n      <td>0</td>\n      <td>1</td>\n      <td>0</td>\n      <td>0</td>\n      <td>0</td>\n      <td>1</td>\n      <td>0</td>\n      <td>0</td>\n    </tr>\n    <tr>\n      <th>1</th>\n      <td>40.80020</td>\n      <td>-73.96045</td>\n      <td>1500</td>\n      <td>1</td>\n      <td>0</td>\n      <td>6762</td>\n      <td>1</td>\n      <td>0</td>\n      <td>6365.273</td>\n      <td>1</td>\n      <td>0</td>\n      <td>0</td>\n      <td>0</td>\n      <td>0</td>\n      <td>1</td>\n      <td>0</td>\n      <td>0</td>\n    </tr>\n    <tr>\n      <th>2</th>\n      <td>40.75558</td>\n      <td>-73.89316</td>\n      <td>200</td>\n      <td>2</td>\n      <td>4</td>\n      <td>3</td>\n      <td>1</td>\n      <td>365</td>\n      <td>6368.323</td>\n      <td>1</td>\n      <td>0</td>\n      <td>0</td>\n      <td>0</td>\n      <td>0</td>\n      <td>0</td>\n      <td>1</td>\n      <td>0</td>\n    </tr>\n    <tr>\n      <th>3</th>\n      <td>40.60110</td>\n      <td>-74.07830</td>\n      <td>30</td>\n      <td>2</td>\n      <td>0</td>\n      <td>6762</td>\n      <td>4</td>\n      <td>82</td>\n      <td>6389.364</td>\n      <td>0</td>\n      <td>0</td>\n      <td>1</td>\n      <td>0</td>\n      <td>0</td>\n      <td>0</td>\n      <td>0</td>\n      <td>1</td>\n    </tr>\n    <tr>\n      <th>4</th>\n      <td>40.81022</td>\n      <td>-73.94266</td>\n      <td>115</td>\n      <td>1</td>\n      <td>16</td>\n      <td>43</td>\n      <td>1</td>\n      <td>365</td>\n      <td>6363.764</td>\n      <td>0</td>\n      <td>0</td>\n      <td>1</td>\n      <td>0</td>\n      <td>0</td>\n      <td>1</td>\n      <td>0</td>\n      <td>0</td>\n    </tr>\n  </tbody>\n</table>\n</div>",
      "text/plain": "   latitude  longitude  price  minimum_nights  number_of_reviews  last_review  \\\n0  40.72217  -73.99481    120               7                  3         1406   \n1  40.80020  -73.96045   1500               1                  0         6762   \n2  40.75558  -73.89316    200               2                  4            3   \n3  40.60110  -74.07830     30               2                  0         6762   \n4  40.81022  -73.94266    115               1                 16           43   \n\n   listing_per_host  availability_365    radius  room_type_Entire home/apt  \\\n0                 3                 0  6374.418                          0   \n1                 1                 0  6365.273                          1   \n2                 1               365  6368.323                          1   \n3                 4                82  6389.364                          0   \n4                 1               365  6363.764                          0   \n\n   room_type_Private room  room_type_Shared room  neighbourhood_group_Bronx  \\\n0                       1                      0                          0   \n1                       0                      0                          0   \n2                       0                      0                          0   \n3                       0                      1                          0   \n4                       0                      1                          0   \n\n   neighbourhood_group_Brooklyn  neighbourhood_group_Manhattan  \\\n0                             0                              1   \n1                             0                              1   \n2                             0                              0   \n3                             0                              0   \n4                             0                              1   \n\n   neighbourhood_group_Queens  neighbourhood_group_Staten Island  \n0                           0                                  0  \n1                           0                                  0  \n2                           1                                  0  \n3                           0                                  1  \n4                           0                                  0  "
     },
     "execution_count": 51,
     "metadata": {},
     "output_type": "execute_result"
    }
   ],
   "source": [
    "df.head()"
   ]
  },
  {
   "cell_type": "code",
   "execution_count": 52,
   "metadata": {},
   "outputs": [
    {
     "name": "stdout",
     "output_type": "stream",
     "text": "Linear Regression : 0.10502676222076912\nRidge : 0.10025810801843749\nLasso : 0.09291915279068996\n"
    }
   ],
   "source": [
    "X = df.drop(['price'], 1)\n",
    "y = df.price\n",
    "\n",
    "# result = run_regression_models(X, y, scaler=MinMaxScaler(), test_size=0.25)"
   ]
  },
  {
   "cell_type": "code",
   "execution_count": null,
   "metadata": {},
   "outputs": [],
   "source": [
    "from sklearn.linear_model import LogisticRegression, LinearRegression, Ridge, Lasso\n",
    "from sklearn.model_selection import train_test_split\n",
    "\n",
    "X_train, X_test, y_train, y_test = train_test_split(X, y, test_size=0.25, random_state=42)\n",
    "\n",
    "scaler = MinMaxScaler()\n",
    "scaler.fit_transform(X_train)\n",
    "scaler.transform(X_test)\n",
    "\n",
    "model = Lasso()\n",
    "model.fit(X_train, y_train)\n",
    "# y_pred = model.predict(X_test)\n",
    "\n",
    "score = model.score(X_test, y_test) "
   ]
  },
  {
   "cell_type": "markdown",
   "metadata": {},
   "source": [
    "## Saving data to intermediate data"
   ]
  },
  {
   "cell_type": "code",
   "execution_count": 46,
   "metadata": {},
   "outputs": [],
   "source": [
    "# df.to_csv(inter_data_path('clean_unscaled.csv'))"
   ]
  },
  {
   "cell_type": "markdown",
   "metadata": {},
   "source": [
    "## Saving model to storage"
   ]
  },
  {
   "cell_type": "code",
   "execution_count": 53,
   "metadata": {},
   "outputs": [],
   "source": [
    "def get_best_model(results: list):\n",
    "    \"\"\"Resturns best model with lowest RMSE score\"\"\"\n",
    "    score = math.inf\n",
    "    best_model = None\n",
    "\n",
    "    for result in results:\n",
    "\n",
    "        if result['score'] < score:\n",
    "            score = result['score']\n",
    "            best_model = result['model']\n",
    "    \n",
    "    print(\"Best model is {} \\nwith RMSE score: {}\".format(best_model, score))\n",
    "    return {'model': best_model, 'score': score}\n"
   ]
  },
  {
   "cell_type": "code",
   "execution_count": 54,
   "metadata": {},
   "outputs": [
    {
     "name": "stdout",
     "output_type": "stream",
     "text": "Best model is Lasso(alpha=1.0, copy_X=True, fit_intercept=True, max_iter=1000,\n      normalize=False, positive=False, precompute=False, random_state=None,\n      selection='cyclic', tol=0.0001, warm_start=False) \nwith RMSE score: 0.09291915279068996\n"
    }
   ],
   "source": [
    "# {'model': model, 'score': score}\n",
    "# model_scores = result.values()\n",
    "best_model = get_best_model(result.values())"
   ]
  },
  {
   "cell_type": "code",
   "execution_count": 55,
   "metadata": {},
   "outputs": [],
   "source": [
    "import pickle\n",
    "model_path = storage_path('lasso_946.obj')\n",
    "\n",
    "with open(model_path, 'wb') as obj_file:\n",
    "    pickle.dump(best_model['model'], obj_file)"
   ]
  },
  {
   "cell_type": "code",
   "execution_count": null,
   "metadata": {},
   "outputs": [],
   "source": []
  }
 ]
}