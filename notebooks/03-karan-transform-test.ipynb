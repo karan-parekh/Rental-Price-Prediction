{
 "nbformat": 4,
 "nbformat_minor": 2,
 "metadata": {
  "language_info": {
   "name": "python",
   "codemirror_mode": {
    "name": "ipython",
    "version": 3
   },
   "version": "3.7.4-final"
  },
  "orig_nbformat": 2,
  "file_extension": ".py",
  "mimetype": "text/x-python",
  "name": "python",
  "npconvert_exporter": "python",
  "pygments_lexer": "ipython3",
  "version": 3,
  "kernelspec": {
   "name": "python37432bitc1904522e8ce46829924bddcb110fc44",
   "display_name": "Python 3.7.4 32-bit"
  }
 },
 "cells": [
  {
   "cell_type": "markdown",
   "metadata": {},
   "source": [
    "# Transform Test Data and apply the model trained on Train Data "
   ]
  },
  {
   "cell_type": "markdown",
   "metadata": {},
   "source": [
    "## Importing dependencies"
   ]
  },
  {
   "cell_type": "code",
   "execution_count": 1,
   "metadata": {},
   "outputs": [
    {
     "data": {
      "text/plain": "'\\nDEPENDENCIES:\\n    - pandas\\n    - numpy\\n    - geopy\\n'"
     },
     "execution_count": 1,
     "metadata": {},
     "output_type": "execute_result"
    }
   ],
   "source": [
    "import os\n",
    "import sys\n",
    "\n",
    "app_path = os.getcwd().rsplit(os.sep, 1)[0]\n",
    "\n",
    "if app_path not in sys.path:\n",
    "    sys.path.insert(0, app_path)\n",
    "\n",
    "import math\n",
    "import numpy as np\n",
    "import pandas as pd\n",
    "import pickle\n",
    "\n",
    "from datetime import datetime, timedelta\n",
    "from geopy.distance import great_circle\n",
    "from utils.paths import *\n",
    "from utils.helpers import *\n",
    "\n",
    "\"\"\"\n",
    "DEPENDENCIES:\n",
    "    - pandas\n",
    "    - numpy\n",
    "    - geopy\n",
    "\"\"\"\n"
   ]
  },
  {
   "cell_type": "code",
   "execution_count": 2,
   "metadata": {},
   "outputs": [],
   "source": [
    "\n",
    "def transform_last_review(df: pd.DataFrame) -> pd.DataFrame:\n",
    "    \"\"\"Transforms last_review column from datetime obj to no of days from latest review -> int\"\"\"\n",
    "\n",
    "    try:\n",
    "        df['last_review']\n",
    "\n",
    "    except TypeError:\n",
    "        print(\" NO last_review COLUMN FOUND\")\n",
    "        return\n",
    "    \n",
    "    lastest_review = datetime.strptime(df.last_review.sort_values(ascending=False).iloc[0], \"%Y-%m-%d\")\n",
    "\n",
    "    def get_timedelta(reference: str, origin=lastest_review) -> int:\n",
    "        reference = datetime.strptime(reference, \"%Y-%m-%d\")\n",
    "        delta = origin - reference\n",
    "        return delta.days\n",
    "\n",
    "    last_review_days = []\n",
    "\n",
    "    for review in df.last_review:\n",
    "        last_review_days.append(get_timedelta(review))\n",
    "\n",
    "    df['last_review'] = last_review_days\n",
    "    return df"
   ]
  },
  {
   "cell_type": "code",
   "execution_count": 14,
   "metadata": {},
   "outputs": [],
   "source": [
    "def create_radius_feature(df: pd.DataFrame) -> pd.DataFrame:\n",
    "    \"\"\"Calculates distance of each listing with the centre of NYC. stored in radius column\"\"\"\n",
    "\n",
    "    try:\n",
    "        lat_lon = df[['latitude', 'longitude']]\n",
    "\n",
    "    except TypeError:\n",
    "        print(\" NO latitue or longitude COLUMN FOUND \")\n",
    "        return\n",
    "\n",
    "    def get_radius(lat, lon):\n",
    "        nyc_centre    = (74.0060, 40.7128)\n",
    "        accommodation = (lat, lon)\n",
    "        return great_circle(nyc_centre, accommodation).km\n",
    "\n",
    "    radii = []\n",
    "\n",
    "    for value in lat_lon.values:\n",
    "        dist = get_radius(value[0], value[1])\n",
    "        radii.append(round(dist, 3))\n",
    "\n",
    "    df['radius'] = radii\n",
    "    \n",
    "    return df"
   ]
  },
  {
   "cell_type": "code",
   "execution_count": 44,
   "metadata": {},
   "outputs": [],
   "source": [
    "from sklearn.preprocessing import MinMaxScaler, RobustScaler\n",
    "\n",
    "def run_model(model, df: pd.DataFrame, to_csv=False, filename='submit.csv') -> pd.Series:\n",
    "\n",
    "    scaler = MinMaxScaler()\n",
    "    df     = scaler.fit_transform(df)\n",
    "\n",
    "    y_pred      = model.predict(df)\n",
    "    test_path   = raw_data_path('Test.csv')       \n",
    "    test_df     = pd.read_csv(test_path)\n",
    "    predictions = pd.DataFrame({'id': test_df.id, 'price': y_pred}, columns=['id', 'price'])\n",
    "\n",
    "    if to_csv:\n",
    "        submit_path = processed_data_path(filename)\n",
    "        predictions.to_csv(submit_path, index=False)\n",
    "\n",
    "    return predictions\n"
   ]
  },
  {
   "cell_type": "code",
   "execution_count": 45,
   "metadata": {},
   "outputs": [],
   "source": [
    "def import_trained_model(model_name):\n",
    "    model_path = storage_path(model_name)\n",
    "\n",
    "    with open(model_path, 'rb') as model_file:\n",
    "        model = pickle.load(model_file)\n",
    "\n",
    "    return model\n",
    "\n"
   ]
  },
  {
   "cell_type": "code",
   "execution_count": 51,
   "metadata": {},
   "outputs": [],
   "source": [
    "def transform_df(df: pd.DataFrame) -> pd.Series:\n",
    "    # Renaming columns\n",
    "    df.rename(columns={'calculated_host_listings_count': 'listing_per_host'}, inplace=True)\n",
    "    # Replacing last_review NaN with '2001-01-01'\n",
    "    df.last_review = df.last_review.fillna('2001-01-01')\n",
    "    df = transform_last_review(df)\n",
    "    # Calculating radius of each listing from centre of NYC\n",
    "    df = create_radius_feature(df)\n",
    "    # Dropping unwated columns\n",
    "    unwanted_cols = [\n",
    "        'id', \n",
    "        'host_id', \n",
    "        'name', \n",
    "        'host_name', \n",
    "        'latitude', \n",
    "        'longitude', \n",
    "        'neighbourhood', \n",
    "        # 'reviews_per_month'\n",
    "        ]\n",
    "    df.drop(unwanted_cols, 1, inplace=True)\n",
    "    # One-Hot Encoding categorical columns\n",
    "    one_hot_cols = ['room_type', 'neighbourhood_group']\n",
    "    df = one_hot_encode(df, one_hot_cols)\n",
    "\n",
    "    return df\n",
    "    # Importing Trained model\n",
    "    # model = import_trained_model('lasso_1005.obj')\n",
    "    # Running model on test_df\n",
    "    # return run_model(model, df, to_csv=True, filename='submit.csv')\n"
   ]
  },
  {
   "cell_type": "code",
   "execution_count": 52,
   "metadata": {},
   "outputs": [],
   "source": [
    "test_path = raw_data_path('Test.csv')\n",
    "test_df   = pd.read_csv(test_path)\n",
    "\n",
    "train_path = raw_data_path('Train.csv')\n",
    "train_df   = pd.read_csv(train_path)"
   ]
  },
  {
   "cell_type": "code",
   "execution_count": null,
   "metadata": {},
   "outputs": [],
   "source": []
  }
 ]
}