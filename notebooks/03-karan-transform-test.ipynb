{
 "nbformat": 4,
 "nbformat_minor": 2,
 "metadata": {
  "language_info": {
   "name": "python",
   "codemirror_mode": {
    "name": "ipython",
    "version": 3
   },
   "version": "3.7.4-final"
  },
  "orig_nbformat": 2,
  "file_extension": ".py",
  "mimetype": "text/x-python",
  "name": "python",
  "npconvert_exporter": "python",
  "pygments_lexer": "ipython3",
  "version": 3,
  "kernelspec": {
   "name": "python37432bitc1904522e8ce46829924bddcb110fc44",
   "display_name": "Python 3.7.4 32-bit"
  }
 },
 "cells": [
  {
   "cell_type": "markdown",
   "metadata": {},
   "source": [
    "# Transform Test Data and apply the model trained on Train Data "
   ]
  },
  {
   "cell_type": "markdown",
   "metadata": {},
   "source": [
    "## Importing dependencies"
   ]
  },
  {
   "cell_type": "code",
   "execution_count": 74,
   "metadata": {},
   "outputs": [
    {
     "data": {
      "text/plain": "'\\nDEPENDENCIES:\\n    - pandas\\n    - numpy\\n    - geopy\\n'"
     },
     "execution_count": 74,
     "metadata": {},
     "output_type": "execute_result"
    }
   ],
   "source": [
    "import os\n",
    "import sys\n",
    "\n",
    "app_path = os.getcwd().rsplit(os.sep, 1)[0]\n",
    "\n",
    "if app_path not in sys.path:\n",
    "    sys.path.insert(0, app_path)\n",
    "\n",
    "import math\n",
    "import numpy as np\n",
    "import pandas as pd\n",
    "import pickle\n",
    "\n",
    "from datetime import datetime, timedelta\n",
    "from geopy.distance import great_circle\n",
    "from sklearn.preprocessing import MinMaxScaler, RobustScaler, StandardScaler\n",
    "from sklearn.model_selection import train_test_split, GridSearchCV\n",
    "from sklearn.linear_model import Lasso\n",
    "\n",
    "from utils.paths import *\n",
    "from utils.helpers import *\n",
    "\n",
    "\"\"\"\n",
    "DEPENDENCIES:\n",
    "    - pandas\n",
    "    - numpy\n",
    "    - geopy\n",
    "\"\"\"\n"
   ]
  },
  {
   "cell_type": "code",
   "execution_count": 75,
   "metadata": {},
   "outputs": [],
   "source": [
    "\n",
    "def transform_last_review(df: pd.DataFrame) -> pd.DataFrame:\n",
    "    \"\"\"Transforms last_review column from datetime obj to no of days from latest review -> int\"\"\"\n",
    "\n",
    "    try:\n",
    "        df['last_review']\n",
    "\n",
    "    except TypeError:\n",
    "        print(\" NO last_review COLUMN FOUND\")\n",
    "        return\n",
    "    \n",
    "    lastest_review = datetime.strptime(df.last_review.sort_values(ascending=False).iloc[0], \"%Y-%m-%d\")\n",
    "\n",
    "    def get_timedelta(reference: str, origin=lastest_review) -> int:\n",
    "        reference = datetime.strptime(reference, \"%Y-%m-%d\")\n",
    "        delta = origin - reference\n",
    "        return delta.days\n",
    "\n",
    "    last_review_days = []\n",
    "\n",
    "    for review in df.last_review:\n",
    "        last_review_days.append(get_timedelta(review))\n",
    "\n",
    "    df['last_review'] = last_review_days\n",
    "    return df"
   ]
  },
  {
   "cell_type": "code",
   "execution_count": 76,
   "metadata": {},
   "outputs": [],
   "source": [
    "def create_radius_feature(df: pd.DataFrame) -> pd.DataFrame:\n",
    "    \"\"\"Calculates distance of each listing with the centre of NYC. stored in radius column\"\"\"\n",
    "\n",
    "    try:\n",
    "        lat_lon = df[['latitude', 'longitude']]\n",
    "\n",
    "    except TypeError:\n",
    "        print(\" NO latitue or longitude COLUMN FOUND \")\n",
    "        return\n",
    "\n",
    "    def get_radius(lat, lon):\n",
    "        nyc_centre    = (74.0060, 40.7128)\n",
    "        accommodation = (lat, lon)\n",
    "        return great_circle(nyc_centre, accommodation).km\n",
    "\n",
    "    radii = []\n",
    "\n",
    "    for value in lat_lon.values:\n",
    "        dist = get_radius(value[0], value[1])\n",
    "        radii.append(round(dist, 3))\n",
    "\n",
    "    df['radius'] = radii\n",
    "    \n",
    "    return df"
   ]
  },
  {
   "cell_type": "code",
   "execution_count": 77,
   "metadata": {},
   "outputs": [],
   "source": [
    "def run_model(model, df: pd.DataFrame, to_csv=False, filename='submit.csv') -> pd.Series:\n",
    "\n",
    "    scaler = MinMaxScaler()\n",
    "    df     = scaler.fit_transform(df)\n",
    "\n",
    "    y_pred      = model.predict(df)\n",
    "    test_path   = raw_data_path('Test.csv')       \n",
    "    test_df     = pd.read_csv(test_path)\n",
    "    predictions = pd.DataFrame({'id': test_df.id, 'price': y_pred}, columns=['id', 'price'])\n",
    "\n",
    "    if to_csv:\n",
    "        submit_path = processed_data_path(filename)\n",
    "        predictions.to_csv(submit_path, index=False)\n",
    "\n",
    "    return predictions\n"
   ]
  },
  {
   "cell_type": "code",
   "execution_count": 78,
   "metadata": {},
   "outputs": [],
   "source": [
    "def import_trained_model(model_name):\n",
    "    model_path = storage_path(model_name)\n",
    "\n",
    "    with open(model_path, 'rb') as model_file:\n",
    "        model = pickle.load(model_file)\n",
    "\n",
    "    return model\n",
    "\n"
   ]
  },
  {
   "cell_type": "code",
   "execution_count": 79,
   "metadata": {},
   "outputs": [],
   "source": [
    "def transform_df(df: pd.DataFrame) -> pd.DataFrame:\n",
    "    # Renaming columns\n",
    "    df.rename(columns={'calculated_host_listings_count': 'listing_per_host'}, inplace=True)\n",
    "    # Replacing last_review NaN with '2001-01-01'\n",
    "    lastest_review = datetime.strptime(df.last_review.sort_values(ascending=False).iloc[0], \"%Y-%m-%d\")\n",
    "    # print(\" LATEST REVIEW DATE: \", lastest_review)\n",
    "    df.last_review = df.last_review.fillna('2001-01-01')  # Replace with latest review date\n",
    "    df = transform_last_review(df)\n",
    "    # Calculating radius of each listing from centre of NYC\n",
    "    df = create_radius_feature(df)\n",
    "    # Dropping unwated columns\n",
    "    unwanted_cols = [\n",
    "        'id',\n",
    "        'host_id', \n",
    "        'name',\n",
    "        'host_name', \n",
    "        'latitude',\n",
    "        'longitude',\n",
    "        'neighbourhood',\n",
    "        'reviews_per_month',\n",
    "        'last_review',\n",
    "        ]\n",
    "    df.drop(unwanted_cols, 1, inplace=True)\n",
    "    # Label encoding\n",
    "    # label_cols = ['neighbourhood']\n",
    "    # df = label_encode(df, label_cols)\n",
    "    # One-Hot Encoding categorical columns\n",
    "    one_hot_cols = ['room_type', 'neighbourhood_group']\n",
    "    df = one_hot_encode(df, one_hot_cols)\n",
    "\n",
    "    return df\n",
    "    # Importing Trained model\n",
    "    # model = import_trained_model('lasso_1005.obj')\n",
    "    # Running model on test_df\n",
    "    # return run_model(model, df, to_csv=True, filename='submit.csv')\n"
   ]
  },
  {
   "cell_type": "markdown",
   "metadata": {},
   "source": [
    "## Importing Train and Test Data"
   ]
  },
  {
   "cell_type": "code",
   "execution_count": 80,
   "metadata": {},
   "outputs": [],
   "source": [
    "test_path = raw_data_path('Test.csv')\n",
    "test_df   = pd.read_csv(test_path)\n",
    "\n",
    "train_path = raw_data_path('Train.csv')\n",
    "train_df   = pd.read_csv(train_path)"
   ]
  },
  {
   "cell_type": "markdown",
   "metadata": {},
   "source": [
    "## Transforming Train Data"
   ]
  },
  {
   "cell_type": "code",
   "execution_count": 81,
   "metadata": {},
   "outputs": [],
   "source": [
    "\n",
    "# train_df.head()"
   ]
  },
  {
   "cell_type": "code",
   "execution_count": 82,
   "metadata": {},
   "outputs": [
    {
     "name": "stdout",
     "output_type": "stream",
     "text": "BEST ALPHA:  0.9\n0.09076874217760078\n"
    }
   ],
   "source": [
    "train_df = transform_df(train_df)\n",
    "\n",
    "X = train_df.drop('price', 1)\n",
    "y = train_df.price\n",
    "\n",
    "X_train, X_test, y_train, y_test = train_test_split(X, y, test_size=0.25, random_state=42)\n",
    "\n",
    "scaler  = MinMaxScaler()\n",
    "X_train = scaler.fit_transform(X_train)\n",
    "X_test  = scaler.transform(X_test)\n",
    "\n",
    "# run_regression_models(X, y)\n",
    "\n",
    "std_scaler = StandardScaler()\n",
    "X_train    = std_scaler.fit_transform(X_train)\n",
    "X_test     = std_scaler.transform(X_test)\n",
    "\n",
    "model = Lasso()\n",
    "\n",
    "lasso_params = {'alpha': [0.089, 0.90, 0.91, 0.92]}\n",
    "\n",
    "lasso_grid = GridSearchCV(model, lasso_params, cv=3, n_jobs=-1)\n",
    "lasso_grid.fit(X_train, y_train)\n",
    "\n",
    "alpha = lasso_grid.best_params_['alpha']\n",
    "\n",
    "# alpha = 0.1\n",
    "\n",
    "# 0.9 = 0.0974\n",
    "# 1.1 = 0.09207\n",
    "# 1.2 = 0.0915\n",
    "# 1.3 = 0.0913\n",
    "# 2   = 0.0896\n",
    "# 3   = 0.0873\n",
    "# 5   = 0.080\n",
    "# 6   = 0.076\n",
    "\n",
    "model = Lasso(alpha=alpha)  # alpha)\n",
    "\n",
    "print(\" BEST ALPHA: \", alpha)\n",
    "# print(lasso_grid.best_score_)\n",
    "\n",
    "# print(lasso_grid)\n",
    "\n",
    "model.fit(X_train, y_train)\n",
    "score = model.score(X_test, y_test)\n",
    "print(score)\n",
    "\n"
   ]
  },
  {
   "cell_type": "code",
   "execution_count": 83,
   "metadata": {},
   "outputs": [
    {
     "data": {
      "text/plain": "Lasso(alpha=0.9, copy_X=True, fit_intercept=True, max_iter=1000,\n      normalize=False, positive=False, precompute=False, random_state=None,\n      selection='cyclic', tol=0.0001, warm_start=False)"
     },
     "execution_count": 83,
     "metadata": {},
     "output_type": "execute_result"
    }
   ],
   "source": [
    "model"
   ]
  },
  {
   "cell_type": "code",
   "execution_count": 86,
   "metadata": {},
   "outputs": [
    {
     "data": {
      "text/html": "<div>\n<style scoped>\n    .dataframe tbody tr th:only-of-type {\n        vertical-align: middle;\n    }\n\n    .dataframe tbody tr th {\n        vertical-align: top;\n    }\n\n    .dataframe thead th {\n        text-align: right;\n    }\n</style>\n<table border=\"1\" class=\"dataframe\">\n  <thead>\n    <tr style=\"text-align: right;\">\n      <th></th>\n      <th>price</th>\n      <th>minimum_nights</th>\n      <th>number_of_reviews</th>\n      <th>listing_per_host</th>\n      <th>availability_365</th>\n      <th>radius</th>\n      <th>room_type_Entire home/apt</th>\n      <th>room_type_Private room</th>\n      <th>room_type_Shared room</th>\n      <th>neighbourhood_group_Bronx</th>\n      <th>neighbourhood_group_Brooklyn</th>\n      <th>neighbourhood_group_Manhattan</th>\n      <th>neighbourhood_group_Queens</th>\n      <th>neighbourhood_group_Staten Island</th>\n    </tr>\n  </thead>\n  <tbody>\n    <tr>\n      <th>0</th>\n      <td>120</td>\n      <td>7</td>\n      <td>3</td>\n      <td>3</td>\n      <td>0</td>\n      <td>6374.418</td>\n      <td>0</td>\n      <td>1</td>\n      <td>0</td>\n      <td>0</td>\n      <td>0</td>\n      <td>1</td>\n      <td>0</td>\n      <td>0</td>\n    </tr>\n    <tr>\n      <th>1</th>\n      <td>1500</td>\n      <td>1</td>\n      <td>0</td>\n      <td>1</td>\n      <td>0</td>\n      <td>6365.273</td>\n      <td>1</td>\n      <td>0</td>\n      <td>0</td>\n      <td>0</td>\n      <td>0</td>\n      <td>1</td>\n      <td>0</td>\n      <td>0</td>\n    </tr>\n    <tr>\n      <th>2</th>\n      <td>200</td>\n      <td>2</td>\n      <td>4</td>\n      <td>1</td>\n      <td>365</td>\n      <td>6368.323</td>\n      <td>1</td>\n      <td>0</td>\n      <td>0</td>\n      <td>0</td>\n      <td>0</td>\n      <td>0</td>\n      <td>1</td>\n      <td>0</td>\n    </tr>\n    <tr>\n      <th>3</th>\n      <td>30</td>\n      <td>2</td>\n      <td>0</td>\n      <td>4</td>\n      <td>82</td>\n      <td>6389.364</td>\n      <td>0</td>\n      <td>0</td>\n      <td>1</td>\n      <td>0</td>\n      <td>0</td>\n      <td>0</td>\n      <td>0</td>\n      <td>1</td>\n    </tr>\n    <tr>\n      <th>4</th>\n      <td>115</td>\n      <td>1</td>\n      <td>16</td>\n      <td>1</td>\n      <td>365</td>\n      <td>6363.764</td>\n      <td>0</td>\n      <td>0</td>\n      <td>1</td>\n      <td>0</td>\n      <td>0</td>\n      <td>1</td>\n      <td>0</td>\n      <td>0</td>\n    </tr>\n  </tbody>\n</table>\n</div>",
      "text/plain": "   price  minimum_nights  number_of_reviews  listing_per_host  \\\n0    120               7                  3                 3   \n1   1500               1                  0                 1   \n2    200               2                  4                 1   \n3     30               2                  0                 4   \n4    115               1                 16                 1   \n\n   availability_365    radius  room_type_Entire home/apt  \\\n0                 0  6374.418                          0   \n1                 0  6365.273                          1   \n2               365  6368.323                          1   \n3                82  6389.364                          0   \n4               365  6363.764                          0   \n\n   room_type_Private room  room_type_Shared room  neighbourhood_group_Bronx  \\\n0                       1                      0                          0   \n1                       0                      0                          0   \n2                       0                      0                          0   \n3                       0                      1                          0   \n4                       0                      1                          0   \n\n   neighbourhood_group_Brooklyn  neighbourhood_group_Manhattan  \\\n0                             0                              1   \n1                             0                              1   \n2                             0                              0   \n3                             0                              0   \n4                             0                              1   \n\n   neighbourhood_group_Queens  neighbourhood_group_Staten Island  \n0                           0                                  0  \n1                           0                                  0  \n2                           1                                  0  \n3                           0                                  1  \n4                           0                                  0  "
     },
     "execution_count": 86,
     "metadata": {},
     "output_type": "execute_result"
    }
   ],
   "source": [
    "train_df.head()"
   ]
  },
  {
   "cell_type": "markdown",
   "metadata": {},
   "source": [
    "## Transforming Test Data"
   ]
  },
  {
   "cell_type": "code",
   "execution_count": 84,
   "metadata": {},
   "outputs": [],
   "source": [
    "test_df = transform_df(test_df)\n",
    "\n",
    "# scaler  = MinMaxScaler()\n",
    "test_df = scaler.transform(test_df)"
   ]
  },
  {
   "cell_type": "markdown",
   "metadata": {},
   "source": [
    "## Predict and save CSV"
   ]
  },
  {
   "cell_type": "code",
   "execution_count": 85,
   "metadata": {},
   "outputs": [],
   "source": [
    "y_pred      = model.predict(test_df)\n",
    "\n",
    "raw_test_df = pd.read_csv(test_path)\n",
    "predictions = pd.DataFrame({'id': raw_test_df.id, 'price': y_pred}, columns=['id', 'price'])\n",
    "\n",
    "submit_path = processed_data_path('lasso-339.csv')\n",
    "predictions.to_csv(submit_path, index=False)\n"
   ]
  },
  {
   "cell_type": "code",
   "execution_count": null,
   "metadata": {},
   "outputs": [],
   "source": []
  },
  {
   "cell_type": "code",
   "execution_count": null,
   "metadata": {},
   "outputs": [],
   "source": []
  },
  {
   "cell_type": "code",
   "execution_count": null,
   "metadata": {},
   "outputs": [],
   "source": []
  },
  {
   "cell_type": "code",
   "execution_count": null,
   "metadata": {},
   "outputs": [],
   "source": []
  }
 ]
}